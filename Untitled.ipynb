{
 "cells": [
  {
   "cell_type": "code",
   "execution_count": 1,
   "id": "e1f002c8",
   "metadata": {},
   "outputs": [],
   "source": [
    "#import libraries\n",
    "\n",
    "import warnings\n",
    "warnings.filterwarnings('ignore')\n",
    "\n",
    "import numpy as np\n",
    "import pandas as pd\n",
    "import matplotlib.pyplot as plt\n",
    "import seaborn as sns\n",
    "from sklearn import linear_model\n",
    "from sklearn.linear_model import LinearRegression\n",
    "from sklearn.linear_model import Ridge\n",
    "from sklearn.linear_model import Lasso\n",
    "from sklearn.model_selection import GridSearchCV\n",
    "import sklearn.metrics as metrics\n",
    "import os \n"
   ]
  },
  {
   "cell_type": "code",
   "execution_count": 2,
   "id": "40671136",
   "metadata": {},
   "outputs": [],
   "source": [
    "#read the data\n",
    "house = pd.read_csv('train.csv')"
   ]
  },
  {
   "cell_type": "code",
   "execution_count": 3,
   "id": "45fa3788",
   "metadata": {},
   "outputs": [],
   "source": [
    "#create another copy\n",
    "housing = house.copy(deep= True)"
   ]
  },
  {
   "cell_type": "code",
   "execution_count": 4,
   "id": "a0e243c0",
   "metadata": {
    "scrolled": true
   },
   "outputs": [
    {
     "data": {
      "text/html": [
       "<div>\n",
       "<style scoped>\n",
       "    .dataframe tbody tr th:only-of-type {\n",
       "        vertical-align: middle;\n",
       "    }\n",
       "\n",
       "    .dataframe tbody tr th {\n",
       "        vertical-align: top;\n",
       "    }\n",
       "\n",
       "    .dataframe thead th {\n",
       "        text-align: right;\n",
       "    }\n",
       "</style>\n",
       "<table border=\"1\" class=\"dataframe\">\n",
       "  <thead>\n",
       "    <tr style=\"text-align: right;\">\n",
       "      <th></th>\n",
       "      <th>Id</th>\n",
       "      <th>MSSubClass</th>\n",
       "      <th>MSZoning</th>\n",
       "      <th>LotFrontage</th>\n",
       "      <th>LotArea</th>\n",
       "      <th>Street</th>\n",
       "      <th>Alley</th>\n",
       "      <th>LotShape</th>\n",
       "      <th>LandContour</th>\n",
       "      <th>Utilities</th>\n",
       "      <th>...</th>\n",
       "      <th>PoolArea</th>\n",
       "      <th>PoolQC</th>\n",
       "      <th>Fence</th>\n",
       "      <th>MiscFeature</th>\n",
       "      <th>MiscVal</th>\n",
       "      <th>MoSold</th>\n",
       "      <th>YrSold</th>\n",
       "      <th>SaleType</th>\n",
       "      <th>SaleCondition</th>\n",
       "      <th>SalePrice</th>\n",
       "    </tr>\n",
       "  </thead>\n",
       "  <tbody>\n",
       "    <tr>\n",
       "      <th>0</th>\n",
       "      <td>1</td>\n",
       "      <td>60</td>\n",
       "      <td>RL</td>\n",
       "      <td>65.0</td>\n",
       "      <td>8450</td>\n",
       "      <td>Pave</td>\n",
       "      <td>NaN</td>\n",
       "      <td>Reg</td>\n",
       "      <td>Lvl</td>\n",
       "      <td>AllPub</td>\n",
       "      <td>...</td>\n",
       "      <td>0</td>\n",
       "      <td>NaN</td>\n",
       "      <td>NaN</td>\n",
       "      <td>NaN</td>\n",
       "      <td>0</td>\n",
       "      <td>2</td>\n",
       "      <td>2008</td>\n",
       "      <td>WD</td>\n",
       "      <td>Normal</td>\n",
       "      <td>208500</td>\n",
       "    </tr>\n",
       "    <tr>\n",
       "      <th>1</th>\n",
       "      <td>2</td>\n",
       "      <td>20</td>\n",
       "      <td>RL</td>\n",
       "      <td>80.0</td>\n",
       "      <td>9600</td>\n",
       "      <td>Pave</td>\n",
       "      <td>NaN</td>\n",
       "      <td>Reg</td>\n",
       "      <td>Lvl</td>\n",
       "      <td>AllPub</td>\n",
       "      <td>...</td>\n",
       "      <td>0</td>\n",
       "      <td>NaN</td>\n",
       "      <td>NaN</td>\n",
       "      <td>NaN</td>\n",
       "      <td>0</td>\n",
       "      <td>5</td>\n",
       "      <td>2007</td>\n",
       "      <td>WD</td>\n",
       "      <td>Normal</td>\n",
       "      <td>181500</td>\n",
       "    </tr>\n",
       "    <tr>\n",
       "      <th>2</th>\n",
       "      <td>3</td>\n",
       "      <td>60</td>\n",
       "      <td>RL</td>\n",
       "      <td>68.0</td>\n",
       "      <td>11250</td>\n",
       "      <td>Pave</td>\n",
       "      <td>NaN</td>\n",
       "      <td>IR1</td>\n",
       "      <td>Lvl</td>\n",
       "      <td>AllPub</td>\n",
       "      <td>...</td>\n",
       "      <td>0</td>\n",
       "      <td>NaN</td>\n",
       "      <td>NaN</td>\n",
       "      <td>NaN</td>\n",
       "      <td>0</td>\n",
       "      <td>9</td>\n",
       "      <td>2008</td>\n",
       "      <td>WD</td>\n",
       "      <td>Normal</td>\n",
       "      <td>223500</td>\n",
       "    </tr>\n",
       "    <tr>\n",
       "      <th>3</th>\n",
       "      <td>4</td>\n",
       "      <td>70</td>\n",
       "      <td>RL</td>\n",
       "      <td>60.0</td>\n",
       "      <td>9550</td>\n",
       "      <td>Pave</td>\n",
       "      <td>NaN</td>\n",
       "      <td>IR1</td>\n",
       "      <td>Lvl</td>\n",
       "      <td>AllPub</td>\n",
       "      <td>...</td>\n",
       "      <td>0</td>\n",
       "      <td>NaN</td>\n",
       "      <td>NaN</td>\n",
       "      <td>NaN</td>\n",
       "      <td>0</td>\n",
       "      <td>2</td>\n",
       "      <td>2006</td>\n",
       "      <td>WD</td>\n",
       "      <td>Abnorml</td>\n",
       "      <td>140000</td>\n",
       "    </tr>\n",
       "    <tr>\n",
       "      <th>4</th>\n",
       "      <td>5</td>\n",
       "      <td>60</td>\n",
       "      <td>RL</td>\n",
       "      <td>84.0</td>\n",
       "      <td>14260</td>\n",
       "      <td>Pave</td>\n",
       "      <td>NaN</td>\n",
       "      <td>IR1</td>\n",
       "      <td>Lvl</td>\n",
       "      <td>AllPub</td>\n",
       "      <td>...</td>\n",
       "      <td>0</td>\n",
       "      <td>NaN</td>\n",
       "      <td>NaN</td>\n",
       "      <td>NaN</td>\n",
       "      <td>0</td>\n",
       "      <td>12</td>\n",
       "      <td>2008</td>\n",
       "      <td>WD</td>\n",
       "      <td>Normal</td>\n",
       "      <td>250000</td>\n",
       "    </tr>\n",
       "  </tbody>\n",
       "</table>\n",
       "<p>5 rows × 81 columns</p>\n",
       "</div>"
      ],
      "text/plain": [
       "   Id  MSSubClass MSZoning  LotFrontage  LotArea Street Alley LotShape  \\\n",
       "0   1          60       RL         65.0     8450   Pave   NaN      Reg   \n",
       "1   2          20       RL         80.0     9600   Pave   NaN      Reg   \n",
       "2   3          60       RL         68.0    11250   Pave   NaN      IR1   \n",
       "3   4          70       RL         60.0     9550   Pave   NaN      IR1   \n",
       "4   5          60       RL         84.0    14260   Pave   NaN      IR1   \n",
       "\n",
       "  LandContour Utilities  ... PoolArea PoolQC Fence MiscFeature MiscVal MoSold  \\\n",
       "0         Lvl    AllPub  ...        0    NaN   NaN         NaN       0      2   \n",
       "1         Lvl    AllPub  ...        0    NaN   NaN         NaN       0      5   \n",
       "2         Lvl    AllPub  ...        0    NaN   NaN         NaN       0      9   \n",
       "3         Lvl    AllPub  ...        0    NaN   NaN         NaN       0      2   \n",
       "4         Lvl    AllPub  ...        0    NaN   NaN         NaN       0     12   \n",
       "\n",
       "  YrSold  SaleType  SaleCondition  SalePrice  \n",
       "0   2008        WD         Normal     208500  \n",
       "1   2007        WD         Normal     181500  \n",
       "2   2008        WD         Normal     223500  \n",
       "3   2006        WD        Abnorml     140000  \n",
       "4   2008        WD         Normal     250000  \n",
       "\n",
       "[5 rows x 81 columns]"
      ]
     },
     "execution_count": 4,
     "metadata": {},
     "output_type": "execute_result"
    }
   ],
   "source": [
    "housing.head()"
   ]
  },
  {
   "cell_type": "code",
   "execution_count": 5,
   "id": "4e90276d",
   "metadata": {},
   "outputs": [
    {
     "data": {
      "text/html": [
       "<div>\n",
       "<style scoped>\n",
       "    .dataframe tbody tr th:only-of-type {\n",
       "        vertical-align: middle;\n",
       "    }\n",
       "\n",
       "    .dataframe tbody tr th {\n",
       "        vertical-align: top;\n",
       "    }\n",
       "\n",
       "    .dataframe thead th {\n",
       "        text-align: right;\n",
       "    }\n",
       "</style>\n",
       "<table border=\"1\" class=\"dataframe\">\n",
       "  <thead>\n",
       "    <tr style=\"text-align: right;\">\n",
       "      <th></th>\n",
       "      <th>Id</th>\n",
       "      <th>MSSubClass</th>\n",
       "      <th>LotFrontage</th>\n",
       "      <th>LotArea</th>\n",
       "      <th>OverallQual</th>\n",
       "      <th>OverallCond</th>\n",
       "      <th>YearBuilt</th>\n",
       "      <th>YearRemodAdd</th>\n",
       "      <th>MasVnrArea</th>\n",
       "      <th>BsmtFinSF1</th>\n",
       "      <th>...</th>\n",
       "      <th>WoodDeckSF</th>\n",
       "      <th>OpenPorchSF</th>\n",
       "      <th>EnclosedPorch</th>\n",
       "      <th>3SsnPorch</th>\n",
       "      <th>ScreenPorch</th>\n",
       "      <th>PoolArea</th>\n",
       "      <th>MiscVal</th>\n",
       "      <th>MoSold</th>\n",
       "      <th>YrSold</th>\n",
       "      <th>SalePrice</th>\n",
       "    </tr>\n",
       "  </thead>\n",
       "  <tbody>\n",
       "    <tr>\n",
       "      <th>count</th>\n",
       "      <td>1460.000000</td>\n",
       "      <td>1460.000000</td>\n",
       "      <td>1201.000000</td>\n",
       "      <td>1460.000000</td>\n",
       "      <td>1460.000000</td>\n",
       "      <td>1460.000000</td>\n",
       "      <td>1460.000000</td>\n",
       "      <td>1460.000000</td>\n",
       "      <td>1452.000000</td>\n",
       "      <td>1460.000000</td>\n",
       "      <td>...</td>\n",
       "      <td>1460.000000</td>\n",
       "      <td>1460.000000</td>\n",
       "      <td>1460.000000</td>\n",
       "      <td>1460.000000</td>\n",
       "      <td>1460.000000</td>\n",
       "      <td>1460.000000</td>\n",
       "      <td>1460.000000</td>\n",
       "      <td>1460.000000</td>\n",
       "      <td>1460.000000</td>\n",
       "      <td>1460.000000</td>\n",
       "    </tr>\n",
       "    <tr>\n",
       "      <th>mean</th>\n",
       "      <td>730.500000</td>\n",
       "      <td>56.897260</td>\n",
       "      <td>70.049958</td>\n",
       "      <td>10516.828082</td>\n",
       "      <td>6.099315</td>\n",
       "      <td>5.575342</td>\n",
       "      <td>1971.267808</td>\n",
       "      <td>1984.865753</td>\n",
       "      <td>103.685262</td>\n",
       "      <td>443.639726</td>\n",
       "      <td>...</td>\n",
       "      <td>94.244521</td>\n",
       "      <td>46.660274</td>\n",
       "      <td>21.954110</td>\n",
       "      <td>3.409589</td>\n",
       "      <td>15.060959</td>\n",
       "      <td>2.758904</td>\n",
       "      <td>43.489041</td>\n",
       "      <td>6.321918</td>\n",
       "      <td>2007.815753</td>\n",
       "      <td>180921.195890</td>\n",
       "    </tr>\n",
       "    <tr>\n",
       "      <th>std</th>\n",
       "      <td>421.610009</td>\n",
       "      <td>42.300571</td>\n",
       "      <td>24.284752</td>\n",
       "      <td>9981.264932</td>\n",
       "      <td>1.382997</td>\n",
       "      <td>1.112799</td>\n",
       "      <td>30.202904</td>\n",
       "      <td>20.645407</td>\n",
       "      <td>181.066207</td>\n",
       "      <td>456.098091</td>\n",
       "      <td>...</td>\n",
       "      <td>125.338794</td>\n",
       "      <td>66.256028</td>\n",
       "      <td>61.119149</td>\n",
       "      <td>29.317331</td>\n",
       "      <td>55.757415</td>\n",
       "      <td>40.177307</td>\n",
       "      <td>496.123024</td>\n",
       "      <td>2.703626</td>\n",
       "      <td>1.328095</td>\n",
       "      <td>79442.502883</td>\n",
       "    </tr>\n",
       "    <tr>\n",
       "      <th>min</th>\n",
       "      <td>1.000000</td>\n",
       "      <td>20.000000</td>\n",
       "      <td>21.000000</td>\n",
       "      <td>1300.000000</td>\n",
       "      <td>1.000000</td>\n",
       "      <td>1.000000</td>\n",
       "      <td>1872.000000</td>\n",
       "      <td>1950.000000</td>\n",
       "      <td>0.000000</td>\n",
       "      <td>0.000000</td>\n",
       "      <td>...</td>\n",
       "      <td>0.000000</td>\n",
       "      <td>0.000000</td>\n",
       "      <td>0.000000</td>\n",
       "      <td>0.000000</td>\n",
       "      <td>0.000000</td>\n",
       "      <td>0.000000</td>\n",
       "      <td>0.000000</td>\n",
       "      <td>1.000000</td>\n",
       "      <td>2006.000000</td>\n",
       "      <td>34900.000000</td>\n",
       "    </tr>\n",
       "    <tr>\n",
       "      <th>25%</th>\n",
       "      <td>365.750000</td>\n",
       "      <td>20.000000</td>\n",
       "      <td>59.000000</td>\n",
       "      <td>7553.500000</td>\n",
       "      <td>5.000000</td>\n",
       "      <td>5.000000</td>\n",
       "      <td>1954.000000</td>\n",
       "      <td>1967.000000</td>\n",
       "      <td>0.000000</td>\n",
       "      <td>0.000000</td>\n",
       "      <td>...</td>\n",
       "      <td>0.000000</td>\n",
       "      <td>0.000000</td>\n",
       "      <td>0.000000</td>\n",
       "      <td>0.000000</td>\n",
       "      <td>0.000000</td>\n",
       "      <td>0.000000</td>\n",
       "      <td>0.000000</td>\n",
       "      <td>5.000000</td>\n",
       "      <td>2007.000000</td>\n",
       "      <td>129975.000000</td>\n",
       "    </tr>\n",
       "    <tr>\n",
       "      <th>50%</th>\n",
       "      <td>730.500000</td>\n",
       "      <td>50.000000</td>\n",
       "      <td>69.000000</td>\n",
       "      <td>9478.500000</td>\n",
       "      <td>6.000000</td>\n",
       "      <td>5.000000</td>\n",
       "      <td>1973.000000</td>\n",
       "      <td>1994.000000</td>\n",
       "      <td>0.000000</td>\n",
       "      <td>383.500000</td>\n",
       "      <td>...</td>\n",
       "      <td>0.000000</td>\n",
       "      <td>25.000000</td>\n",
       "      <td>0.000000</td>\n",
       "      <td>0.000000</td>\n",
       "      <td>0.000000</td>\n",
       "      <td>0.000000</td>\n",
       "      <td>0.000000</td>\n",
       "      <td>6.000000</td>\n",
       "      <td>2008.000000</td>\n",
       "      <td>163000.000000</td>\n",
       "    </tr>\n",
       "    <tr>\n",
       "      <th>75%</th>\n",
       "      <td>1095.250000</td>\n",
       "      <td>70.000000</td>\n",
       "      <td>80.000000</td>\n",
       "      <td>11601.500000</td>\n",
       "      <td>7.000000</td>\n",
       "      <td>6.000000</td>\n",
       "      <td>2000.000000</td>\n",
       "      <td>2004.000000</td>\n",
       "      <td>166.000000</td>\n",
       "      <td>712.250000</td>\n",
       "      <td>...</td>\n",
       "      <td>168.000000</td>\n",
       "      <td>68.000000</td>\n",
       "      <td>0.000000</td>\n",
       "      <td>0.000000</td>\n",
       "      <td>0.000000</td>\n",
       "      <td>0.000000</td>\n",
       "      <td>0.000000</td>\n",
       "      <td>8.000000</td>\n",
       "      <td>2009.000000</td>\n",
       "      <td>214000.000000</td>\n",
       "    </tr>\n",
       "    <tr>\n",
       "      <th>max</th>\n",
       "      <td>1460.000000</td>\n",
       "      <td>190.000000</td>\n",
       "      <td>313.000000</td>\n",
       "      <td>215245.000000</td>\n",
       "      <td>10.000000</td>\n",
       "      <td>9.000000</td>\n",
       "      <td>2010.000000</td>\n",
       "      <td>2010.000000</td>\n",
       "      <td>1600.000000</td>\n",
       "      <td>5644.000000</td>\n",
       "      <td>...</td>\n",
       "      <td>857.000000</td>\n",
       "      <td>547.000000</td>\n",
       "      <td>552.000000</td>\n",
       "      <td>508.000000</td>\n",
       "      <td>480.000000</td>\n",
       "      <td>738.000000</td>\n",
       "      <td>15500.000000</td>\n",
       "      <td>12.000000</td>\n",
       "      <td>2010.000000</td>\n",
       "      <td>755000.000000</td>\n",
       "    </tr>\n",
       "  </tbody>\n",
       "</table>\n",
       "<p>8 rows × 38 columns</p>\n",
       "</div>"
      ],
      "text/plain": [
       "                Id   MSSubClass  LotFrontage        LotArea  OverallQual  \\\n",
       "count  1460.000000  1460.000000  1201.000000    1460.000000  1460.000000   \n",
       "mean    730.500000    56.897260    70.049958   10516.828082     6.099315   \n",
       "std     421.610009    42.300571    24.284752    9981.264932     1.382997   \n",
       "min       1.000000    20.000000    21.000000    1300.000000     1.000000   \n",
       "25%     365.750000    20.000000    59.000000    7553.500000     5.000000   \n",
       "50%     730.500000    50.000000    69.000000    9478.500000     6.000000   \n",
       "75%    1095.250000    70.000000    80.000000   11601.500000     7.000000   \n",
       "max    1460.000000   190.000000   313.000000  215245.000000    10.000000   \n",
       "\n",
       "       OverallCond    YearBuilt  YearRemodAdd   MasVnrArea   BsmtFinSF1  ...  \\\n",
       "count  1460.000000  1460.000000   1460.000000  1452.000000  1460.000000  ...   \n",
       "mean      5.575342  1971.267808   1984.865753   103.685262   443.639726  ...   \n",
       "std       1.112799    30.202904     20.645407   181.066207   456.098091  ...   \n",
       "min       1.000000  1872.000000   1950.000000     0.000000     0.000000  ...   \n",
       "25%       5.000000  1954.000000   1967.000000     0.000000     0.000000  ...   \n",
       "50%       5.000000  1973.000000   1994.000000     0.000000   383.500000  ...   \n",
       "75%       6.000000  2000.000000   2004.000000   166.000000   712.250000  ...   \n",
       "max       9.000000  2010.000000   2010.000000  1600.000000  5644.000000  ...   \n",
       "\n",
       "        WoodDeckSF  OpenPorchSF  EnclosedPorch    3SsnPorch  ScreenPorch  \\\n",
       "count  1460.000000  1460.000000    1460.000000  1460.000000  1460.000000   \n",
       "mean     94.244521    46.660274      21.954110     3.409589    15.060959   \n",
       "std     125.338794    66.256028      61.119149    29.317331    55.757415   \n",
       "min       0.000000     0.000000       0.000000     0.000000     0.000000   \n",
       "25%       0.000000     0.000000       0.000000     0.000000     0.000000   \n",
       "50%       0.000000    25.000000       0.000000     0.000000     0.000000   \n",
       "75%     168.000000    68.000000       0.000000     0.000000     0.000000   \n",
       "max     857.000000   547.000000     552.000000   508.000000   480.000000   \n",
       "\n",
       "          PoolArea       MiscVal       MoSold       YrSold      SalePrice  \n",
       "count  1460.000000   1460.000000  1460.000000  1460.000000    1460.000000  \n",
       "mean      2.758904     43.489041     6.321918  2007.815753  180921.195890  \n",
       "std      40.177307    496.123024     2.703626     1.328095   79442.502883  \n",
       "min       0.000000      0.000000     1.000000  2006.000000   34900.000000  \n",
       "25%       0.000000      0.000000     5.000000  2007.000000  129975.000000  \n",
       "50%       0.000000      0.000000     6.000000  2008.000000  163000.000000  \n",
       "75%       0.000000      0.000000     8.000000  2009.000000  214000.000000  \n",
       "max     738.000000  15500.000000    12.000000  2010.000000  755000.000000  \n",
       "\n",
       "[8 rows x 38 columns]"
      ]
     },
     "execution_count": 5,
     "metadata": {},
     "output_type": "execute_result"
    }
   ],
   "source": [
    "housing.describe()"
   ]
  },
  {
   "cell_type": "code",
   "execution_count": 6,
   "id": "75f84475",
   "metadata": {},
   "outputs": [
    {
     "name": "stdout",
     "output_type": "stream",
     "text": [
      "<class 'pandas.core.frame.DataFrame'>\n",
      "RangeIndex: 1460 entries, 0 to 1459\n",
      "Data columns (total 81 columns):\n",
      " #   Column         Non-Null Count  Dtype  \n",
      "---  ------         --------------  -----  \n",
      " 0   Id             1460 non-null   int64  \n",
      " 1   MSSubClass     1460 non-null   int64  \n",
      " 2   MSZoning       1460 non-null   object \n",
      " 3   LotFrontage    1201 non-null   float64\n",
      " 4   LotArea        1460 non-null   int64  \n",
      " 5   Street         1460 non-null   object \n",
      " 6   Alley          91 non-null     object \n",
      " 7   LotShape       1460 non-null   object \n",
      " 8   LandContour    1460 non-null   object \n",
      " 9   Utilities      1460 non-null   object \n",
      " 10  LotConfig      1460 non-null   object \n",
      " 11  LandSlope      1460 non-null   object \n",
      " 12  Neighborhood   1460 non-null   object \n",
      " 13  Condition1     1460 non-null   object \n",
      " 14  Condition2     1460 non-null   object \n",
      " 15  BldgType       1460 non-null   object \n",
      " 16  HouseStyle     1460 non-null   object \n",
      " 17  OverallQual    1460 non-null   int64  \n",
      " 18  OverallCond    1460 non-null   int64  \n",
      " 19  YearBuilt      1460 non-null   int64  \n",
      " 20  YearRemodAdd   1460 non-null   int64  \n",
      " 21  RoofStyle      1460 non-null   object \n",
      " 22  RoofMatl       1460 non-null   object \n",
      " 23  Exterior1st    1460 non-null   object \n",
      " 24  Exterior2nd    1460 non-null   object \n",
      " 25  MasVnrType     1452 non-null   object \n",
      " 26  MasVnrArea     1452 non-null   float64\n",
      " 27  ExterQual      1460 non-null   object \n",
      " 28  ExterCond      1460 non-null   object \n",
      " 29  Foundation     1460 non-null   object \n",
      " 30  BsmtQual       1423 non-null   object \n",
      " 31  BsmtCond       1423 non-null   object \n",
      " 32  BsmtExposure   1422 non-null   object \n",
      " 33  BsmtFinType1   1423 non-null   object \n",
      " 34  BsmtFinSF1     1460 non-null   int64  \n",
      " 35  BsmtFinType2   1422 non-null   object \n",
      " 36  BsmtFinSF2     1460 non-null   int64  \n",
      " 37  BsmtUnfSF      1460 non-null   int64  \n",
      " 38  TotalBsmtSF    1460 non-null   int64  \n",
      " 39  Heating        1460 non-null   object \n",
      " 40  HeatingQC      1460 non-null   object \n",
      " 41  CentralAir     1460 non-null   object \n",
      " 42  Electrical     1459 non-null   object \n",
      " 43  1stFlrSF       1460 non-null   int64  \n",
      " 44  2ndFlrSF       1460 non-null   int64  \n",
      " 45  LowQualFinSF   1460 non-null   int64  \n",
      " 46  GrLivArea      1460 non-null   int64  \n",
      " 47  BsmtFullBath   1460 non-null   int64  \n",
      " 48  BsmtHalfBath   1460 non-null   int64  \n",
      " 49  FullBath       1460 non-null   int64  \n",
      " 50  HalfBath       1460 non-null   int64  \n",
      " 51  BedroomAbvGr   1460 non-null   int64  \n",
      " 52  KitchenAbvGr   1460 non-null   int64  \n",
      " 53  KitchenQual    1460 non-null   object \n",
      " 54  TotRmsAbvGrd   1460 non-null   int64  \n",
      " 55  Functional     1460 non-null   object \n",
      " 56  Fireplaces     1460 non-null   int64  \n",
      " 57  FireplaceQu    770 non-null    object \n",
      " 58  GarageType     1379 non-null   object \n",
      " 59  GarageYrBlt    1379 non-null   float64\n",
      " 60  GarageFinish   1379 non-null   object \n",
      " 61  GarageCars     1460 non-null   int64  \n",
      " 62  GarageArea     1460 non-null   int64  \n",
      " 63  GarageQual     1379 non-null   object \n",
      " 64  GarageCond     1379 non-null   object \n",
      " 65  PavedDrive     1460 non-null   object \n",
      " 66  WoodDeckSF     1460 non-null   int64  \n",
      " 67  OpenPorchSF    1460 non-null   int64  \n",
      " 68  EnclosedPorch  1460 non-null   int64  \n",
      " 69  3SsnPorch      1460 non-null   int64  \n",
      " 70  ScreenPorch    1460 non-null   int64  \n",
      " 71  PoolArea       1460 non-null   int64  \n",
      " 72  PoolQC         7 non-null      object \n",
      " 73  Fence          281 non-null    object \n",
      " 74  MiscFeature    54 non-null     object \n",
      " 75  MiscVal        1460 non-null   int64  \n",
      " 76  MoSold         1460 non-null   int64  \n",
      " 77  YrSold         1460 non-null   int64  \n",
      " 78  SaleType       1460 non-null   object \n",
      " 79  SaleCondition  1460 non-null   object \n",
      " 80  SalePrice      1460 non-null   int64  \n",
      "dtypes: float64(3), int64(35), object(43)\n",
      "memory usage: 924.0+ KB\n"
     ]
    }
   ],
   "source": [
    "housing.info()"
   ]
  },
  {
   "cell_type": "code",
   "execution_count": 7,
   "id": "90290ed0",
   "metadata": {},
   "outputs": [
    {
     "data": {
      "text/plain": [
       "(1460, 81)"
      ]
     },
     "execution_count": 7,
     "metadata": {},
     "output_type": "execute_result"
    }
   ],
   "source": [
    "housing.shape"
   ]
  },
  {
   "cell_type": "code",
   "execution_count": 8,
   "id": "393ffbf6",
   "metadata": {},
   "outputs": [
    {
     "data": {
      "text/plain": [
       "PoolQC         1453\n",
       "MiscFeature    1406\n",
       "Alley          1369\n",
       "Fence          1179\n",
       "FireplaceQu     690\n",
       "               ... \n",
       "ExterQual         0\n",
       "Exterior2nd       0\n",
       "Exterior1st       0\n",
       "RoofMatl          0\n",
       "SalePrice         0\n",
       "Length: 81, dtype: int64"
      ]
     },
     "execution_count": 8,
     "metadata": {},
     "output_type": "execute_result"
    }
   ],
   "source": [
    "#To find null values for in every column\n",
    "housing.isnull().sum().sort_values(ascending=False)"
   ]
  },
  {
   "cell_type": "code",
   "execution_count": 9,
   "id": "0fc10855",
   "metadata": {},
   "outputs": [
    {
     "data": {
      "text/plain": [
       "Gd    3\n",
       "Ex    2\n",
       "Fa    2\n",
       "Name: PoolQC, dtype: int64"
      ]
     },
     "execution_count": 9,
     "metadata": {},
     "output_type": "execute_result"
    }
   ],
   "source": [
    "#Validate the data\n",
    "housing['PoolQC'].value_counts()"
   ]
  },
  {
   "cell_type": "code",
   "execution_count": 10,
   "id": "edab2017",
   "metadata": {},
   "outputs": [
    {
     "data": {
      "text/plain": [
       "Shed    49\n",
       "Gar2     2\n",
       "Othr     2\n",
       "TenC     1\n",
       "Name: MiscFeature, dtype: int64"
      ]
     },
     "execution_count": 10,
     "metadata": {},
     "output_type": "execute_result"
    }
   ],
   "source": [
    "housing['MiscFeature'].value_counts()"
   ]
  },
  {
   "cell_type": "code",
   "execution_count": 11,
   "id": "65d592d1",
   "metadata": {},
   "outputs": [
    {
     "data": {
      "text/plain": [
       "Grvl    50\n",
       "Pave    41\n",
       "Name: Alley, dtype: int64"
      ]
     },
     "execution_count": 11,
     "metadata": {},
     "output_type": "execute_result"
    }
   ],
   "source": [
    "housing['Alley'].value_counts()"
   ]
  },
  {
   "cell_type": "code",
   "execution_count": 12,
   "id": "b8a31eea",
   "metadata": {},
   "outputs": [],
   "source": [
    "##as it looks like all the three parameters have NAN or null values, hence we can drip them\n",
    "housing.drop(['PoolQC', 'MiscFeature', 'Alley', 'Fence'], axis =1, inplace = True)"
   ]
  },
  {
   "cell_type": "code",
   "execution_count": 13,
   "id": "47bc04d6",
   "metadata": {},
   "outputs": [
    {
     "data": {
      "text/plain": [
       "FireplaceQu     47.26\n",
       "LotFrontage     17.74\n",
       "GarageType       5.55\n",
       "GarageYrBlt      5.55\n",
       "GarageFinish     5.55\n",
       "                ...  \n",
       "BsmtUnfSF        0.00\n",
       "TotalBsmtSF      0.00\n",
       "MSSubClass       0.00\n",
       "HeatingQC        0.00\n",
       "SalePrice        0.00\n",
       "Length: 77, dtype: float64"
      ]
     },
     "execution_count": 13,
     "metadata": {},
     "output_type": "execute_result"
    }
   ],
   "source": [
    "#check the null value percentage\n",
    "round(100*(housing.isnull().sum()/len(housing.index)), 2).sort_values(ascending=False)"
   ]
  },
  {
   "cell_type": "code",
   "execution_count": 14,
   "id": "928ea2f7",
   "metadata": {},
   "outputs": [
    {
     "data": {
      "text/plain": [
       "Gd    380\n",
       "TA    313\n",
       "Fa     33\n",
       "Ex     24\n",
       "Po     20\n",
       "Name: FireplaceQu, dtype: int64"
      ]
     },
     "execution_count": 14,
     "metadata": {},
     "output_type": "execute_result"
    }
   ],
   "source": [
    "#check the arrangement of 'FireplaceQu'\n",
    "housing['FireplaceQu'].value_counts()"
   ]
  },
  {
   "cell_type": "code",
   "execution_count": 15,
   "id": "0356c513",
   "metadata": {},
   "outputs": [],
   "source": [
    "##As there is no null values in fireplace coulmn, we can consider this parameter for rows of missing values\n",
    "housing['FireplaceQu'] = housing['FireplaceQu'].replace(np.nan, 'NA')\n"
   ]
  },
  {
   "cell_type": "code",
   "execution_count": 16,
   "id": "b76b449e",
   "metadata": {},
   "outputs": [
    {
     "data": {
      "text/plain": [
       "NA    690\n",
       "Gd    380\n",
       "TA    313\n",
       "Fa     33\n",
       "Ex     24\n",
       "Po     20\n",
       "Name: FireplaceQu, dtype: int64"
      ]
     },
     "execution_count": 16,
     "metadata": {},
     "output_type": "execute_result"
    }
   ],
   "source": [
    "housing['FireplaceQu'].value_counts()"
   ]
  },
  {
   "cell_type": "code",
   "execution_count": 17,
   "id": "4ca65abb",
   "metadata": {},
   "outputs": [
    {
     "data": {
      "text/plain": [
       "count    1201.000000\n",
       "mean       70.049958\n",
       "std        24.284752\n",
       "min        21.000000\n",
       "25%        59.000000\n",
       "50%        69.000000\n",
       "75%        80.000000\n",
       "max       313.000000\n",
       "Name: LotFrontage, dtype: float64"
      ]
     },
     "execution_count": 17,
     "metadata": {},
     "output_type": "execute_result"
    }
   ],
   "source": [
    "housing['LotFrontage'].describe()"
   ]
  },
  {
   "cell_type": "code",
   "execution_count": 18,
   "id": "512534db",
   "metadata": {},
   "outputs": [
    {
     "data": {
      "text/plain": [
       "<AxesSubplot:xlabel='LotFrontage'>"
      ]
     },
     "execution_count": 18,
     "metadata": {},
     "output_type": "execute_result"
    },
    {
     "data": {
      "image/png": "[encoded data removed]",
      "text/plain": [
       "<Figure size 432x288 with 1 Axes>"
      ]
     },
     "metadata": {
      "needs_background": "light"
     },
     "output_type": "display_data"
    }
   ],
   "source": [
    "#To check the outliers\n",
    "sns.boxplot('LotFrontage', data = housing)"
   ]
  },
  {
   "cell_type": "code",
   "execution_count": 19,
   "id": "188adaa1",
   "metadata": {},
   "outputs": [],
   "source": [
    "##since there are outliers shown in above pictiure for \"lotFrontage\", we will insert the missing values in this column\n",
    "housing['LotFrontage'] = housing['LotFrontage'].fillna(housing['LotFrontage'].median())"
   ]
  },
  {
   "cell_type": "code",
   "execution_count": 20,
   "id": "d5931d55",
   "metadata": {},
   "outputs": [
    {
     "data": {
      "text/plain": [
       "2005.0    65\n",
       "2006.0    59\n",
       "2004.0    53\n",
       "2003.0    50\n",
       "2007.0    49\n",
       "          ..\n",
       "1927.0     1\n",
       "1900.0     1\n",
       "1906.0     1\n",
       "1908.0     1\n",
       "1933.0     1\n",
       "Name: GarageYrBlt, Length: 97, dtype: int64"
      ]
     },
     "execution_count": 20,
     "metadata": {},
     "output_type": "execute_result"
    }
   ],
   "source": [
    "housing['GarageYrBlt'].value_counts()"
   ]
  },
  {
   "cell_type": "code",
   "execution_count": 21,
   "id": "2ea30d34",
   "metadata": {},
   "outputs": [],
   "source": [
    "import datetime as d\n",
    "current_year = int(d.datetime.now().year)"
   ]
  },
  {
   "cell_type": "code",
   "execution_count": 22,
   "id": "faf08401",
   "metadata": {},
   "outputs": [],
   "source": [
    "housing['GarageYrBlt'] = current_year-housing['GarageYrBlt']"
   ]
  },
  {
   "cell_type": "code",
   "execution_count": 23,
   "id": "bf6e6a23",
   "metadata": {},
   "outputs": [
    {
     "data": {
      "text/plain": [
       "<AxesSubplot:xlabel='GarageYrBlt'>"
      ]
     },
     "execution_count": 23,
     "metadata": {},
     "output_type": "execute_result"
    },
    {
     "data": {
      "image/png": "[encoded data removed]",
      "text/plain": [
       "<Figure size 432x288 with 1 Axes>"
      ]
     },
     "metadata": {
      "needs_background": "light"
     },
     "output_type": "display_data"
    }
   ],
   "source": [
    "#To check outliers in this column\n",
    "sns.boxplot('GarageYrBlt', data = housing)"
   ]
  },
  {
   "cell_type": "code",
   "execution_count": 24,
   "id": "d27e7b66",
   "metadata": {},
   "outputs": [],
   "source": [
    "#As there are no outliers, we can use the date with mean of the age\n",
    "housing['GarageYrBlt'] = housing['GarageYrBlt'].fillna(housing['GarageYrBlt'].mean())"
   ]
  },
  {
   "cell_type": "code",
   "execution_count": 25,
   "id": "f89b3857",
   "metadata": {},
   "outputs": [],
   "source": [
    "#calculate number of years of house was sold from current year\n",
    "housing['YrSold'] = current_year-housing['YrSold']"
   ]
  },
  {
   "cell_type": "code",
   "execution_count": 26,
   "id": "06ec7561",
   "metadata": {},
   "outputs": [],
   "source": [
    "#calculating number of years a house was built\n",
    "housing['YearBuilt'] = current_year-housing['YearBuilt']"
   ]
  },
  {
   "cell_type": "code",
   "execution_count": 27,
   "id": "520027b0",
   "metadata": {},
   "outputs": [
    {
     "data": {
      "text/plain": [
       "Attchd     870\n",
       "Detchd     387\n",
       "BuiltIn     88\n",
       "Basment     19\n",
       "CarPort      9\n",
       "2Types       6\n",
       "Name: GarageType, dtype: int64"
      ]
     },
     "execution_count": 27,
     "metadata": {},
     "output_type": "execute_result"
    }
   ],
   "source": [
    "housing['GarageType'].value_counts()"
   ]
  },
  {
   "cell_type": "code",
   "execution_count": 28,
   "id": "2df0c4d9",
   "metadata": {},
   "outputs": [],
   "source": [
    "#we reaplace NAN value to Na\n",
    "housing['GarageType'] = housing['GarageType']. replace(np.nan, 'NA')"
   ]
  },
  {
   "cell_type": "code",
   "execution_count": 29,
   "id": "9db174a4",
   "metadata": {},
   "outputs": [
    {
     "data": {
      "text/plain": [
       "Unf    605\n",
       "RFn    422\n",
       "Fin    352\n",
       "Name: GarageFinish, dtype: int64"
      ]
     },
     "execution_count": 29,
     "metadata": {},
     "output_type": "execute_result"
    }
   ],
   "source": [
    "housing['GarageFinish'].value_counts()"
   ]
  },
  {
   "cell_type": "code",
   "execution_count": 30,
   "id": "14d3e8bb",
   "metadata": {},
   "outputs": [],
   "source": [
    "#we replace NAN values to NA \n",
    "housing['GarageFinish'] = housing['GarageFinish'].replace(np.nan, 'NA')\n"
   ]
  },
  {
   "cell_type": "code",
   "execution_count": 31,
   "id": "802d47a0",
   "metadata": {},
   "outputs": [
    {
     "data": {
      "text/plain": [
       "TA    1311\n",
       "Fa      48\n",
       "Gd      14\n",
       "Ex       3\n",
       "Po       3\n",
       "Name: GarageQual, dtype: int64"
      ]
     },
     "execution_count": 31,
     "metadata": {},
     "output_type": "execute_result"
    }
   ],
   "source": [
    "housing['GarageQual'].value_counts()"
   ]
  },
  {
   "cell_type": "code",
   "execution_count": 32,
   "id": "2c466f6b",
   "metadata": {},
   "outputs": [],
   "source": [
    "#we replace NAN values to NA \n",
    "housing['GarageQual'] = housing['GarageCond'].replace(np.nan, 'NA')"
   ]
  },
  {
   "cell_type": "code",
   "execution_count": 33,
   "id": "3b5a2e07",
   "metadata": {},
   "outputs": [],
   "source": [
    "housing['GarageCond'] = housing['GarageCond'].replace(np.nan, 'NA')"
   ]
  },
  {
   "cell_type": "code",
   "execution_count": 34,
   "id": "a11f79c2",
   "metadata": {},
   "outputs": [
    {
     "data": {
      "text/plain": [
       "No    953\n",
       "Av    221\n",
       "Gd    134\n",
       "Mn    114\n",
       "Name: BsmtExposure, dtype: int64"
      ]
     },
     "execution_count": 34,
     "metadata": {},
     "output_type": "execute_result"
    }
   ],
   "source": [
    "housing['BsmtExposure'].value_counts()"
   ]
  },
  {
   "cell_type": "code",
   "execution_count": 35,
   "id": "14c17f0e",
   "metadata": {},
   "outputs": [],
   "source": [
    "#replacing values from NAN to NA\n",
    "housing['BsmtExposure'] = housing['BsmtExposure'].replace(np.nan, 'NA')"
   ]
  },
  {
   "cell_type": "code",
   "execution_count": 36,
   "id": "4d2be386",
   "metadata": {},
   "outputs": [
    {
     "data": {
      "text/plain": [
       "Unf    1256\n",
       "Rec      54\n",
       "LwQ      46\n",
       "BLQ      33\n",
       "ALQ      19\n",
       "GLQ      14\n",
       "Name: BsmtFinType2, dtype: int64"
      ]
     },
     "execution_count": 36,
     "metadata": {},
     "output_type": "execute_result"
    }
   ],
   "source": [
    "housing['BsmtFinType2'].value_counts()"
   ]
  },
  {
   "cell_type": "code",
   "execution_count": 37,
   "id": "bac7e1c3",
   "metadata": {},
   "outputs": [],
   "source": [
    "#Replacing NaN values to NA\n",
    "housing['BsmtExposure'] = housing['BsmtExposure'].replace(np.nan, 'NA')"
   ]
  },
  {
   "cell_type": "code",
   "execution_count": 38,
   "id": "87c23d09",
   "metadata": {},
   "outputs": [
    {
     "data": {
      "text/plain": [
       "Unf    430\n",
       "GLQ    418\n",
       "ALQ    220\n",
       "BLQ    148\n",
       "Rec    133\n",
       "LwQ     74\n",
       "Name: BsmtFinType1, dtype: int64"
      ]
     },
     "execution_count": 38,
     "metadata": {},
     "output_type": "execute_result"
    }
   ],
   "source": [
    "housing['BsmtFinType1'].value_counts()"
   ]
  },
  {
   "cell_type": "code",
   "execution_count": 39,
   "id": "0626ced1",
   "metadata": {},
   "outputs": [],
   "source": [
    "#Replacing Nan values\n",
    "housing['BsmtCond'] = housing['BsmtCond'].replace(np.nan, 'NA')"
   ]
  },
  {
   "cell_type": "code",
   "execution_count": 40,
   "id": "1c6e15ee",
   "metadata": {},
   "outputs": [
    {
     "data": {
      "text/plain": [
       "TA    649\n",
       "Gd    618\n",
       "Ex    121\n",
       "Fa     35\n",
       "Name: BsmtQual, dtype: int64"
      ]
     },
     "execution_count": 40,
     "metadata": {},
     "output_type": "execute_result"
    }
   ],
   "source": [
    "housing['BsmtQual'].value_counts()"
   ]
  },
  {
   "cell_type": "code",
   "execution_count": 41,
   "id": "7a793a9b",
   "metadata": {},
   "outputs": [
    {
     "data": {
      "text/plain": [
       "<AxesSubplot:xlabel='MasVnrArea'>"
      ]
     },
     "execution_count": 41,
     "metadata": {},
     "output_type": "execute_result"
    },
    {
     "data": {
      "image/png": "[encoded data removed]",
      "text/plain": [
       "<Figure size 432x288 with 1 Axes>"
      ]
     },
     "metadata": {
      "needs_background": "light"
     },
     "output_type": "display_data"
    }
   ],
   "source": [
    "#Replacing Nan Values\n",
    "housing['BsmtQual'] = housing['BsmtQual'].replace(np.nan, 'NA')\n",
    "sns.boxplot('MasVnrArea', data = housing)"
   ]
  },
  {
   "cell_type": "code",
   "execution_count": 42,
   "id": "00568a48",
   "metadata": {},
   "outputs": [],
   "source": [
    "housing['MasVarArea'] = housing['MasVnrArea'].fillna(housing['MasVnrArea'].median())"
   ]
  },
  {
   "cell_type": "code",
   "execution_count": 43,
   "id": "e124ed74",
   "metadata": {},
   "outputs": [
    {
     "data": {
      "text/plain": [
       "8"
      ]
     },
     "execution_count": 43,
     "metadata": {},
     "output_type": "execute_result"
    }
   ],
   "source": [
    "housing['MasVnrArea'].isnull().sum()\n"
   ]
  },
  {
   "cell_type": "code",
   "execution_count": 44,
   "id": "82897ff8",
   "metadata": {},
   "outputs": [
    {
     "data": {
      "text/plain": [
       "None       864\n",
       "BrkFace    445\n",
       "Stone      128\n",
       "BrkCmn      15\n",
       "Name: MasVnrType, dtype: int64"
      ]
     },
     "execution_count": 44,
     "metadata": {},
     "output_type": "execute_result"
    }
   ],
   "source": [
    "housing['MasVnrType'].value_counts()"
   ]
  },
  {
   "cell_type": "code",
   "execution_count": 45,
   "id": "d5208520",
   "metadata": {},
   "outputs": [
    {
     "data": {
      "text/plain": [
       "0    None\n",
       "dtype: object"
      ]
     },
     "execution_count": 45,
     "metadata": {},
     "output_type": "execute_result"
    }
   ],
   "source": [
    "housing['MasVnrType'].mode()\n"
   ]
  },
  {
   "cell_type": "code",
   "execution_count": 46,
   "id": "ed3a59c9",
   "metadata": {},
   "outputs": [],
   "source": [
    "#Replace mode\n",
    "housing['MasVnrType']= housing['MasVnrType'].replace(np.nan, 'None')"
   ]
  },
  {
   "cell_type": "code",
   "execution_count": 47,
   "id": "f74a1b31",
   "metadata": {},
   "outputs": [
    {
     "data": {
      "text/plain": [
       "0"
      ]
     },
     "execution_count": 47,
     "metadata": {},
     "output_type": "execute_result"
    }
   ],
   "source": [
    "housing['MasVnrType'].isnull().sum()"
   ]
  },
  {
   "cell_type": "code",
   "execution_count": 48,
   "id": "14f350b1",
   "metadata": {},
   "outputs": [
    {
     "data": {
      "text/plain": [
       "SBrkr    1334\n",
       "FuseA      94\n",
       "FuseF      27\n",
       "FuseP       3\n",
       "Mix         1\n",
       "Name: Electrical, dtype: int64"
      ]
     },
     "execution_count": 48,
     "metadata": {},
     "output_type": "execute_result"
    }
   ],
   "source": [
    "housing['Electrical'].value_counts()"
   ]
  },
  {
   "cell_type": "code",
   "execution_count": 49,
   "id": "f690628d",
   "metadata": {},
   "outputs": [],
   "source": [
    "housing['Electrical'] = housing['Electrical'].replace(np.nan, 'SBrkr')"
   ]
  },
  {
   "cell_type": "code",
   "execution_count": 50,
   "id": "04562d02",
   "metadata": {},
   "outputs": [
    {
     "data": {
      "text/plain": [
       "BsmtFinType2    2.60\n",
       "BsmtFinType1    2.53\n",
       "MasVnrArea      0.55\n",
       "Id              0.00\n",
       "BedroomAbvGr    0.00\n",
       "                ... \n",
       "MasVnrType      0.00\n",
       "Exterior2nd     0.00\n",
       "Exterior1st     0.00\n",
       "RoofMatl        0.00\n",
       "MasVarArea      0.00\n",
       "Length: 78, dtype: float64"
      ]
     },
     "execution_count": 50,
     "metadata": {},
     "output_type": "execute_result"
    }
   ],
   "source": [
    "#Check null values in dataframe 'Housing' \n",
    "round(100*(housing.isnull().sum()/len(housing.index)), 2).sort_values(ascending=False)"
   ]
  },
  {
   "cell_type": "code",
   "execution_count": 51,
   "id": "882f273d",
   "metadata": {},
   "outputs": [
    {
     "data": {
      "text/plain": [
       "<AxesSubplot:xlabel='SalePrice', ylabel='Density'>"
      ]
     },
     "execution_count": 51,
     "metadata": {},
     "output_type": "execute_result"
    },
    {
     "data": {
      "image/png": "[encoded data removed]",
      "text/plain": [
       "<Figure size 432x288 with 1 Axes>"
      ]
     },
     "metadata": {
      "needs_background": "light"
     },
     "output_type": "display_data"
    }
   ],
   "source": [
    "#To check \"SalePrice\" if distributed to apply regression\n",
    "sns.distplot(housing['SalePrice'])"
   ]
  },
  {
   "cell_type": "code",
   "execution_count": 52,
   "id": "178dd3e5",
   "metadata": {},
   "outputs": [
    {
     "data": {
      "text/plain": [
       "Index(['Id', 'MSSubClass', 'MSZoning', 'LotFrontage', 'LotArea', 'Street',\n",
       "       'LotShape', 'LandContour', 'Utilities', 'LotConfig', 'LandSlope',\n",
       "       'Neighborhood', 'Condition1', 'Condition2', 'BldgType', 'HouseStyle',\n",
       "       'OverallQual', 'OverallCond', 'YearBuilt', 'YearRemodAdd', 'RoofStyle',\n",
       "       'RoofMatl', 'Exterior1st', 'Exterior2nd', 'MasVnrType', 'MasVnrArea',\n",
       "       'ExterQual', 'ExterCond', 'Foundation', 'BsmtQual', 'BsmtCond',\n",
       "       'BsmtExposure', 'BsmtFinType1', 'BsmtFinSF1', 'BsmtFinType2',\n",
       "       'BsmtFinSF2', 'BsmtUnfSF', 'TotalBsmtSF', 'Heating', 'HeatingQC',\n",
       "       'CentralAir', 'Electrical', '1stFlrSF', '2ndFlrSF', 'LowQualFinSF',\n",
       "       'GrLivArea', 'BsmtFullBath', 'BsmtHalfBath', 'FullBath', 'HalfBath',\n",
       "       'BedroomAbvGr', 'KitchenAbvGr', 'KitchenQual', 'TotRmsAbvGrd',\n",
       "       'Functional', 'Fireplaces', 'FireplaceQu', 'GarageType', 'GarageYrBlt',\n",
       "       'GarageFinish', 'GarageCars', 'GarageArea', 'GarageQual', 'GarageCond',\n",
       "       'PavedDrive', 'WoodDeckSF', 'OpenPorchSF', 'EnclosedPorch', '3SsnPorch',\n",
       "       'ScreenPorch', 'PoolArea', 'MiscVal', 'MoSold', 'YrSold', 'SaleType',\n",
       "       'SaleCondition', 'SalePrice', 'MasVarArea'],\n",
       "      dtype='object')"
      ]
     },
     "execution_count": 52,
     "metadata": {},
     "output_type": "execute_result"
    }
   ],
   "source": [
    "housing.columns\n"
   ]
  },
  {
   "cell_type": "code",
   "execution_count": 53,
   "id": "01acf1c7",
   "metadata": {},
   "outputs": [],
   "source": [
    "housing['log_value'] = np.log(housing['SalePrice'])"
   ]
  },
  {
   "cell_type": "code",
   "execution_count": 54,
   "id": "1eda0dad",
   "metadata": {},
   "outputs": [
    {
     "data": {
      "text/plain": [
       "<AxesSubplot:xlabel='log_value', ylabel='Density'>"
      ]
     },
     "execution_count": 54,
     "metadata": {},
     "output_type": "execute_result"
    },
    {
     "data": {
      "image/png": "[encoded data removed]",
      "text/plain": [
       "<Figure size 432x288 with 1 Axes>"
      ]
     },
     "metadata": {
      "needs_background": "light"
     },
     "output_type": "display_data"
    }
   ],
   "source": [
    "sns.distplot(housing['log_value'])"
   ]
  },
  {
   "cell_type": "code",
   "execution_count": 55,
   "id": "780ba0c3",
   "metadata": {},
   "outputs": [],
   "source": [
    "housing['MSSubClass'] = housing['MSSubClass'].astype(object)"
   ]
  },
  {
   "cell_type": "code",
   "execution_count": 56,
   "id": "e6cad91f",
   "metadata": {},
   "outputs": [
    {
     "name": "stdout",
     "output_type": "stream",
     "text": [
      "<class 'pandas.core.frame.DataFrame'>\n",
      "RangeIndex: 1460 entries, 0 to 1459\n",
      "Data columns (total 79 columns):\n",
      " #   Column         Non-Null Count  Dtype  \n",
      "---  ------         --------------  -----  \n",
      " 0   Id             1460 non-null   int64  \n",
      " 1   MSSubClass     1460 non-null   object \n",
      " 2   MSZoning       1460 non-null   object \n",
      " 3   LotFrontage    1460 non-null   float64\n",
      " 4   LotArea        1460 non-null   int64  \n",
      " 5   Street         1460 non-null   object \n",
      " 6   LotShape       1460 non-null   object \n",
      " 7   LandContour    1460 non-null   object \n",
      " 8   Utilities      1460 non-null   object \n",
      " 9   LotConfig      1460 non-null   object \n",
      " 10  LandSlope      1460 non-null   object \n",
      " 11  Neighborhood   1460 non-null   object \n",
      " 12  Condition1     1460 non-null   object \n",
      " 13  Condition2     1460 non-null   object \n",
      " 14  BldgType       1460 non-null   object \n",
      " 15  HouseStyle     1460 non-null   object \n",
      " 16  OverallQual    1460 non-null   int64  \n",
      " 17  OverallCond    1460 non-null   int64  \n",
      " 18  YearBuilt      1460 non-null   int64  \n",
      " 19  YearRemodAdd   1460 non-null   int64  \n",
      " 20  RoofStyle      1460 non-null   object \n",
      " 21  RoofMatl       1460 non-null   object \n",
      " 22  Exterior1st    1460 non-null   object \n",
      " 23  Exterior2nd    1460 non-null   object \n",
      " 24  MasVnrType     1460 non-null   object \n",
      " 25  MasVnrArea     1452 non-null   float64\n",
      " 26  ExterQual      1460 non-null   object \n",
      " 27  ExterCond      1460 non-null   object \n",
      " 28  Foundation     1460 non-null   object \n",
      " 29  BsmtQual       1460 non-null   object \n",
      " 30  BsmtCond       1460 non-null   object \n",
      " 31  BsmtExposure   1460 non-null   object \n",
      " 32  BsmtFinType1   1423 non-null   object \n",
      " 33  BsmtFinSF1     1460 non-null   int64  \n",
      " 34  BsmtFinType2   1422 non-null   object \n",
      " 35  BsmtFinSF2     1460 non-null   int64  \n",
      " 36  BsmtUnfSF      1460 non-null   int64  \n",
      " 37  TotalBsmtSF    1460 non-null   int64  \n",
      " 38  Heating        1460 non-null   object \n",
      " 39  HeatingQC      1460 non-null   object \n",
      " 40  CentralAir     1460 non-null   object \n",
      " 41  Electrical     1460 non-null   object \n",
      " 42  1stFlrSF       1460 non-null   int64  \n",
      " 43  2ndFlrSF       1460 non-null   int64  \n",
      " 44  LowQualFinSF   1460 non-null   int64  \n",
      " 45  GrLivArea      1460 non-null   int64  \n",
      " 46  BsmtFullBath   1460 non-null   int64  \n",
      " 47  BsmtHalfBath   1460 non-null   int64  \n",
      " 48  FullBath       1460 non-null   int64  \n",
      " 49  HalfBath       1460 non-null   int64  \n",
      " 50  BedroomAbvGr   1460 non-null   int64  \n",
      " 51  KitchenAbvGr   1460 non-null   int64  \n",
      " 52  KitchenQual    1460 non-null   object \n",
      " 53  TotRmsAbvGrd   1460 non-null   int64  \n",
      " 54  Functional     1460 non-null   object \n",
      " 55  Fireplaces     1460 non-null   int64  \n",
      " 56  FireplaceQu    1460 non-null   object \n",
      " 57  GarageType     1460 non-null   object \n",
      " 58  GarageYrBlt    1460 non-null   float64\n",
      " 59  GarageFinish   1460 non-null   object \n",
      " 60  GarageCars     1460 non-null   int64  \n",
      " 61  GarageArea     1460 non-null   int64  \n",
      " 62  GarageQual     1460 non-null   object \n",
      " 63  GarageCond     1460 non-null   object \n",
      " 64  PavedDrive     1460 non-null   object \n",
      " 65  WoodDeckSF     1460 non-null   int64  \n",
      " 66  OpenPorchSF    1460 non-null   int64  \n",
      " 67  EnclosedPorch  1460 non-null   int64  \n",
      " 68  3SsnPorch      1460 non-null   int64  \n",
      " 69  ScreenPorch    1460 non-null   int64  \n",
      " 70  PoolArea       1460 non-null   int64  \n",
      " 71  MiscVal        1460 non-null   int64  \n",
      " 72  MoSold         1460 non-null   int64  \n",
      " 73  YrSold         1460 non-null   int64  \n",
      " 74  SaleType       1460 non-null   object \n",
      " 75  SaleCondition  1460 non-null   object \n",
      " 76  SalePrice      1460 non-null   int64  \n",
      " 77  MasVarArea     1460 non-null   float64\n",
      " 78  log_value      1460 non-null   float64\n",
      "dtypes: float64(5), int64(34), object(40)\n",
      "memory usage: 901.2+ KB\n"
     ]
    }
   ],
   "source": [
    "housing.info()"
   ]
  },
  {
   "cell_type": "code",
   "execution_count": 57,
   "id": "be6ce1a6",
   "metadata": {},
   "outputs": [
    {
     "data": {
      "text/html": [
       "<div>\n",
       "<style scoped>\n",
       "    .dataframe tbody tr th:only-of-type {\n",
       "        vertical-align: middle;\n",
       "    }\n",
       "\n",
       "    .dataframe tbody tr th {\n",
       "        vertical-align: top;\n",
       "    }\n",
       "\n",
       "    .dataframe thead th {\n",
       "        text-align: right;\n",
       "    }\n",
       "</style>\n",
       "<table border=\"1\" class=\"dataframe\">\n",
       "  <thead>\n",
       "    <tr style=\"text-align: right;\">\n",
       "      <th></th>\n",
       "      <th>Id</th>\n",
       "      <th>MSSubClass</th>\n",
       "      <th>MSZoning</th>\n",
       "      <th>LotFrontage</th>\n",
       "      <th>LotArea</th>\n",
       "      <th>Street</th>\n",
       "      <th>LotShape</th>\n",
       "      <th>LandContour</th>\n",
       "      <th>Utilities</th>\n",
       "      <th>LotConfig</th>\n",
       "      <th>...</th>\n",
       "      <th>ScreenPorch</th>\n",
       "      <th>PoolArea</th>\n",
       "      <th>MiscVal</th>\n",
       "      <th>MoSold</th>\n",
       "      <th>YrSold</th>\n",
       "      <th>SaleType</th>\n",
       "      <th>SaleCondition</th>\n",
       "      <th>SalePrice</th>\n",
       "      <th>MasVarArea</th>\n",
       "      <th>log_value</th>\n",
       "    </tr>\n",
       "  </thead>\n",
       "  <tbody>\n",
       "    <tr>\n",
       "      <th>0</th>\n",
       "      <td>1</td>\n",
       "      <td>60</td>\n",
       "      <td>RL</td>\n",
       "      <td>65.0</td>\n",
       "      <td>8450</td>\n",
       "      <td>Pave</td>\n",
       "      <td>Reg</td>\n",
       "      <td>Lvl</td>\n",
       "      <td>AllPub</td>\n",
       "      <td>Inside</td>\n",
       "      <td>...</td>\n",
       "      <td>0</td>\n",
       "      <td>0</td>\n",
       "      <td>0</td>\n",
       "      <td>2</td>\n",
       "      <td>14</td>\n",
       "      <td>WD</td>\n",
       "      <td>Normal</td>\n",
       "      <td>208500</td>\n",
       "      <td>196.0</td>\n",
       "      <td>12.247694</td>\n",
       "    </tr>\n",
       "    <tr>\n",
       "      <th>1</th>\n",
       "      <td>2</td>\n",
       "      <td>20</td>\n",
       "      <td>RL</td>\n",
       "      <td>80.0</td>\n",
       "      <td>9600</td>\n",
       "      <td>Pave</td>\n",
       "      <td>Reg</td>\n",
       "      <td>Lvl</td>\n",
       "      <td>AllPub</td>\n",
       "      <td>FR2</td>\n",
       "      <td>...</td>\n",
       "      <td>0</td>\n",
       "      <td>0</td>\n",
       "      <td>0</td>\n",
       "      <td>5</td>\n",
       "      <td>15</td>\n",
       "      <td>WD</td>\n",
       "      <td>Normal</td>\n",
       "      <td>181500</td>\n",
       "      <td>0.0</td>\n",
       "      <td>12.109011</td>\n",
       "    </tr>\n",
       "    <tr>\n",
       "      <th>2</th>\n",
       "      <td>3</td>\n",
       "      <td>60</td>\n",
       "      <td>RL</td>\n",
       "      <td>68.0</td>\n",
       "      <td>11250</td>\n",
       "      <td>Pave</td>\n",
       "      <td>IR1</td>\n",
       "      <td>Lvl</td>\n",
       "      <td>AllPub</td>\n",
       "      <td>Inside</td>\n",
       "      <td>...</td>\n",
       "      <td>0</td>\n",
       "      <td>0</td>\n",
       "      <td>0</td>\n",
       "      <td>9</td>\n",
       "      <td>14</td>\n",
       "      <td>WD</td>\n",
       "      <td>Normal</td>\n",
       "      <td>223500</td>\n",
       "      <td>162.0</td>\n",
       "      <td>12.317167</td>\n",
       "    </tr>\n",
       "    <tr>\n",
       "      <th>3</th>\n",
       "      <td>4</td>\n",
       "      <td>70</td>\n",
       "      <td>RL</td>\n",
       "      <td>60.0</td>\n",
       "      <td>9550</td>\n",
       "      <td>Pave</td>\n",
       "      <td>IR1</td>\n",
       "      <td>Lvl</td>\n",
       "      <td>AllPub</td>\n",
       "      <td>Corner</td>\n",
       "      <td>...</td>\n",
       "      <td>0</td>\n",
       "      <td>0</td>\n",
       "      <td>0</td>\n",
       "      <td>2</td>\n",
       "      <td>16</td>\n",
       "      <td>WD</td>\n",
       "      <td>Abnorml</td>\n",
       "      <td>140000</td>\n",
       "      <td>0.0</td>\n",
       "      <td>11.849398</td>\n",
       "    </tr>\n",
       "    <tr>\n",
       "      <th>4</th>\n",
       "      <td>5</td>\n",
       "      <td>60</td>\n",
       "      <td>RL</td>\n",
       "      <td>84.0</td>\n",
       "      <td>14260</td>\n",
       "      <td>Pave</td>\n",
       "      <td>IR1</td>\n",
       "      <td>Lvl</td>\n",
       "      <td>AllPub</td>\n",
       "      <td>FR2</td>\n",
       "      <td>...</td>\n",
       "      <td>0</td>\n",
       "      <td>0</td>\n",
       "      <td>0</td>\n",
       "      <td>12</td>\n",
       "      <td>14</td>\n",
       "      <td>WD</td>\n",
       "      <td>Normal</td>\n",
       "      <td>250000</td>\n",
       "      <td>350.0</td>\n",
       "      <td>12.429216</td>\n",
       "    </tr>\n",
       "  </tbody>\n",
       "</table>\n",
       "<p>5 rows × 79 columns</p>\n",
       "</div>"
      ],
      "text/plain": [
       "   Id MSSubClass MSZoning  LotFrontage  LotArea Street LotShape LandContour  \\\n",
       "0   1         60       RL         65.0     8450   Pave      Reg         Lvl   \n",
       "1   2         20       RL         80.0     9600   Pave      Reg         Lvl   \n",
       "2   3         60       RL         68.0    11250   Pave      IR1         Lvl   \n",
       "3   4         70       RL         60.0     9550   Pave      IR1         Lvl   \n",
       "4   5         60       RL         84.0    14260   Pave      IR1         Lvl   \n",
       "\n",
       "  Utilities LotConfig  ... ScreenPorch PoolArea MiscVal MoSold YrSold  \\\n",
       "0    AllPub    Inside  ...           0        0       0      2     14   \n",
       "1    AllPub       FR2  ...           0        0       0      5     15   \n",
       "2    AllPub    Inside  ...           0        0       0      9     14   \n",
       "3    AllPub    Corner  ...           0        0       0      2     16   \n",
       "4    AllPub       FR2  ...           0        0       0     12     14   \n",
       "\n",
       "  SaleType  SaleCondition  SalePrice  MasVarArea  log_value  \n",
       "0       WD         Normal     208500       196.0  12.247694  \n",
       "1       WD         Normal     181500         0.0  12.109011  \n",
       "2       WD         Normal     223500       162.0  12.317167  \n",
       "3       WD        Abnorml     140000         0.0  11.849398  \n",
       "4       WD         Normal     250000       350.0  12.429216  \n",
       "\n",
       "[5 rows x 79 columns]"
      ]
     },
     "execution_count": 57,
     "metadata": {},
     "output_type": "execute_result"
    }
   ],
   "source": [
    "housing.head()"
   ]
  },
  {
   "cell_type": "code",
   "execution_count": 58,
   "id": "f18efe64",
   "metadata": {},
   "outputs": [],
   "source": [
    "# As these volumns have variance of similar values"
   ]
  },
  {
   "cell_type": "code",
   "execution_count": 59,
   "id": "dba450da",
   "metadata": {},
   "outputs": [],
   "source": [
    "#(housing['Heating'].value_counts()/len(housing.index))*100 #Can remove no much of a variance : 97 % for GasA\n",
    "#(housing['SaleCondition'].value_counts()/len(housing.index))*100 #Can remove : 82% varaiance for Normal\n",
    "#(housing['CentralAir'].value_counts()/len(housing.index))*100 #Can remove : 93.5% varaiance for Y\n",
    "#(housing['LowQualFinSF'].value_counts()/len(housing.index))*100 #Can remove : 98.2% varaiance for 0\n",
    "#(housing['KitchenAbvGr'].value_counts()/len(housing.index))*100 #Can remove : 95.3% varaiance for 1\n",
    "#(housing['Functional'].value_counts()/len(housing.index))*100 #Can remove : 93.1% varaiance for Typ\n",
    "#(housing['SaleType'].value_counts()/len(housing.index))*100 #Can remove : 86% varaiance for WD\n",
    "#MoSold might not be a highly influential factor so we can drop it\n",
    "#(housing['MiscVal'].value_counts()/len(housing.index))*100 #Can remove : 96% varaiance for 0 \n",
    "#(housing['PoolArea'].value_counts()/len(housing.index))*100 #Can remove : 99% varaiance for 0 \n",
    "#(housing['ScreenPorch'].value_counts()/len(housing.index))*100 #Can remove : 92% varaiance for 0 \n",
    "#(housing['3SsnPorch'].value_counts()/len(housing.index))*100 #Can remove : 98% varaiance for 0\n",
    "#(housing['PavedDrive'].value_counts()/len(housing.index))*100 #Can remove : 92% varaiance for Y\n",
    "#(housing['PavedDrive'].value_counts()/len(housing.index))*100 #Can remove : 92% varaiance for Y\n",
    "#(housing['EnclosedPorch'].value_counts()/len(housing.index))*100 #Can remove : 86% varaiance for Y\n",
    "#(housing['BsmtFinSF2'].value_counts()/len(housing.index))*100 #Can remove : 88% varaiance for 0\n",
    "#(housing['Condition2'].value_counts()/len(housing.index))*100 #Can remove : 98% varaiance for Norm\n",
    "#(housing['BldgType'].value_counts()/len(housing.index))*100 #Can remove : 84% varaiance for 1Fam\n",
    "#(housing['RoofStyle'].value_counts()/len(housing.index))*100 #Can remove : 78% varaiance for Gable\n",
    "#(housing['RoofMatl'].value_counts()/len(housing.index))*100 #Can remove : 98% varaiance for CompShg\n",
    "#(housing['ExterCond'].value_counts()/len(housing.index))*100 #Can remove : 87% varaiance for TA\n",
    "#(housing['Utilities'].value_counts()/len(housing.index))*100 #Can remove : 99.9% varaiance for AllPub\n",
    "#(housing['Electrical'].value_counts()/len(housing.index))*100 #Can remove : 99.9% varaiance for SBrkr\n",
    "#(housing['BsmtCond'].value_counts()/len(housing.index))*100 #Can remove : 90% varaiance for TA\n",
    "#(housing['BsmtFinType2'].value_counts()/len(housing.index))*100 #Can remove : 90% varaiance for Unf\n",
    "#(housing['GarageQual'].value_counts()/len(housing.index))*100 #Can remove : 89% varaiance for TA\n",
    "#(housing['GarageCond'].value_counts()/len(housing.index))*100 #Can remove : 90% varaiance for TA\n",
    "#'Heating','SaleCondition', 'CentralAir', 'LowQualFinSF', 'KitchenAbvGr', 'Functional', 'SaleType', 'MoSold', 'MiscVal', 'PoolArea', \n",
    "#'ScreenPorch', '3SsnPorch', 'PavedDrive', 'EnclosedPorch', 'BsmtFinSF2', 'Condition2', 'BldgType', 'RoofStyle', 'RoofMatl', \n",
    "#'ExterCond', 'Utilities', 'Electrical', 'BsmtCond', 'BsmtFinType2', 'GarageQual', 'GarageCond'"
   ]
  },
  {
   "cell_type": "code",
   "execution_count": 60,
   "id": "3060ec99",
   "metadata": {},
   "outputs": [
    {
     "data": {
      "text/plain": [
       "Index(['Id', 'MSSubClass', 'MSZoning', 'LotFrontage', 'LotArea', 'Street',\n",
       "       'Alley', 'LotShape', 'LandContour', 'Utilities', 'LotConfig',\n",
       "       'LandSlope', 'Neighborhood', 'Condition1', 'Condition2', 'BldgType',\n",
       "       'HouseStyle', 'OverallQual', 'OverallCond', 'YearBuilt', 'YearRemodAdd',\n",
       "       'RoofStyle', 'RoofMatl', 'Exterior1st', 'Exterior2nd', 'MasVnrType',\n",
       "       'MasVnrArea', 'ExterQual', 'ExterCond', 'Foundation', 'BsmtQual',\n",
       "       'BsmtCond', 'BsmtExposure', 'BsmtFinType1', 'BsmtFinSF1',\n",
       "       'BsmtFinType2', 'BsmtFinSF2', 'BsmtUnfSF', 'TotalBsmtSF', 'Heating',\n",
       "       'HeatingQC', 'CentralAir', 'Electrical', '1stFlrSF', '2ndFlrSF',\n",
       "       'LowQualFinSF', 'GrLivArea', 'BsmtFullBath', 'BsmtHalfBath', 'FullBath',\n",
       "       'HalfBath', 'BedroomAbvGr', 'KitchenAbvGr', 'KitchenQual',\n",
       "       'TotRmsAbvGrd', 'Functional', 'Fireplaces', 'FireplaceQu', 'GarageType',\n",
       "       'GarageYrBlt', 'GarageFinish', 'GarageCars', 'GarageArea', 'GarageQual',\n",
       "       'GarageCond', 'PavedDrive', 'WoodDeckSF', 'OpenPorchSF',\n",
       "       'EnclosedPorch', '3SsnPorch', 'ScreenPorch', 'PoolArea', 'PoolQC',\n",
       "       'Fence', 'MiscFeature', 'MiscVal', 'MoSold', 'YrSold', 'SaleType',\n",
       "       'SaleCondition', 'SalePrice'],\n",
       "      dtype='object')"
      ]
     },
     "execution_count": 60,
     "metadata": {},
     "output_type": "execute_result"
    }
   ],
   "source": [
    "house.columns\n"
   ]
  },
  {
   "cell_type": "code",
   "execution_count": 61,
   "id": "87a93e92",
   "metadata": {},
   "outputs": [],
   "source": [
    "housing.drop(['Id', 'MSSubClass', 'MSZoning', 'LotFrontage', 'LotArea', 'Street', 'LotShape', 'LandContour', 'LotConfig', 'LandSlope','Neighborhood', 'Condition1', 'HouseStyle', 'OverallQual','OverallCond', 'YearBuilt', 'YearRemodAdd', 'Exterior1st','Exterior2nd', 'MasVnrType', 'MasVnrArea'], axis =1, inplace = True)\n"
   ]
  },
  {
   "cell_type": "code",
   "execution_count": 62,
   "id": "be2b6baa",
   "metadata": {},
   "outputs": [
    {
     "data": {
      "text/plain": [
       "Index(['Utilities', 'Condition2', 'BldgType', 'RoofStyle', 'RoofMatl',\n",
       "       'ExterQual', 'ExterCond', 'Foundation', 'BsmtQual', 'BsmtCond',\n",
       "       'BsmtExposure', 'BsmtFinType1', 'BsmtFinSF1', 'BsmtFinType2',\n",
       "       'BsmtFinSF2', 'BsmtUnfSF', 'TotalBsmtSF', 'Heating', 'HeatingQC',\n",
       "       'CentralAir', 'Electrical', '1stFlrSF', '2ndFlrSF', 'LowQualFinSF',\n",
       "       'GrLivArea', 'BsmtFullBath', 'BsmtHalfBath', 'FullBath', 'HalfBath',\n",
       "       'BedroomAbvGr', 'KitchenAbvGr', 'KitchenQual', 'TotRmsAbvGrd',\n",
       "       'Functional', 'Fireplaces', 'FireplaceQu', 'GarageType', 'GarageYrBlt',\n",
       "       'GarageFinish', 'GarageCars', 'GarageArea', 'GarageQual', 'GarageCond',\n",
       "       'PavedDrive', 'WoodDeckSF', 'OpenPorchSF', 'EnclosedPorch', '3SsnPorch',\n",
       "       'ScreenPorch', 'PoolArea', 'MiscVal', 'MoSold', 'YrSold', 'SaleType',\n",
       "       'SaleCondition', 'SalePrice', 'MasVarArea', 'log_value'],\n",
       "      dtype='object')"
      ]
     },
     "execution_count": 62,
     "metadata": {},
     "output_type": "execute_result"
    }
   ],
   "source": [
    "housing.columns"
   ]
  },
  {
   "cell_type": "code",
   "execution_count": null,
   "id": "cfabd896",
   "metadata": {},
   "outputs": [
    {
     "data": {
      "image/png": "[encoded data removed]",
      "text/plain": [
       "<Figure size 576x360 with 1 Axes>"
      ]
     },
     "metadata": {
      "needs_background": "light"
     },
     "output_type": "display_data"
    },
    {
     "data": {
      "image/png": "[encoded data removed]",
      "text/plain": [
       "<Figure size 576x360 with 1 Axes>"
      ]
     },
     "metadata": {
      "needs_background": "light"
     },
     "output_type": "display_data"
    },
    {
     "data": {
      "image/png": "[encoded data removed]",
      "text/plain": [
       "<Figure size 576x360 with 1 Axes>"
      ]
     },
     "metadata": {
      "needs_background": "light"
     },
     "output_type": "display_data"
    },
    {
     "data": {
      "image/png": "[encoded data removed]",
      "text/plain": [
       "<Figure size 576x360 with 1 Axes>"
      ]
     },
     "metadata": {
      "needs_background": "light"
     },
     "output_type": "display_data"
    },
    {
     "data": {
      "image/png": "[encoded data removed]",
      "text/plain": [
       "<Figure size 576x360 with 1 Axes>"
      ]
     },
     "metadata": {
      "needs_background": "light"
     },
     "output_type": "display_data"
    },
    {
     "data": {
      "image/png": "[encoded data removed]",
      "text/plain": [
       "<Figure size 576x360 with 1 Axes>"
      ]
     },
     "metadata": {
      "needs_background": "light"
     },
     "output_type": "display_data"
    },
    {
     "data": {
      "image/png": "[encoded data removed]",
      "text/plain": [
       "<Figure size 576x360 with 1 Axes>"
      ]
     },
     "metadata": {
      "needs_background": "light"
     },
     "output_type": "display_data"
    },
    {
     "data": {
      "image/png": "[encoded data removed]",
      "text/plain": [
       "<Figure size 576x360 with 1 Axes>"
      ]
     },
     "metadata": {
      "needs_background": "light"
     },
     "output_type": "display_data"
    },
    {
     "data": {
      "image/png": "[encoded data removed]",
      "text/plain": [
       "<Figure size 576x360 with 1 Axes>"
      ]
     },
     "metadata": {
      "needs_background": "light"
     },
     "output_type": "display_data"
    },
    {
     "data": {
      "image/png": "[encoded data removed]",
      "text/plain": [
       "<Figure size 576x360 with 1 Axes>"
      ]
     },
     "metadata": {
      "needs_background": "light"
     },
     "output_type": "display_data"
    },
    {
     "data": {
      "image/png": "[encoded data removed]",
      "text/plain": [
       "<Figure size 576x360 with 1 Axes>"
      ]
     },
     "metadata": {
      "needs_background": "light"
     },
     "output_type": "display_data"
    },
    {
     "data": {
      "image/png": "[encoded data removed]",
      "text/plain": [
       "<Figure size 576x360 with 1 Axes>"
      ]
     },
     "metadata": {
      "needs_background": "light"
     },
     "output_type": "display_data"
    },
    {
     "data": {
      "image/png": "[encoded data removed]",
      "text/plain": [
       "<Figure size 576x360 with 1 Axes>"
      ]
     },
     "metadata": {
      "needs_background": "light"
     },
     "output_type": "display_data"
    },
    {
     "data": {
      "image/png": "[encoded data removed]",
      "text/plain": [
       "<Figure size 576x360 with 1 Axes>"
      ]
     },
     "metadata": {
      "needs_background": "light"
     },
     "output_type": "display_data"
    },
    {
     "data": {
      "image/png": "[encoded data removed]",
      "text/plain": [
       "<Figure size 576x360 with 1 Axes>"
      ]
     },
     "metadata": {
      "needs_background": "light"
     },
     "output_type": "display_data"
    }
   ],
   "source": [
    "## Visualizing the levels of categorical columns using bar plots\n",
    "for col in housing.columns:\n",
    "    plt.figure(figsize=(8,5))\n",
    "    plt.title(col, fontdict={'fontsize': 18})\n",
    "    sns.barplot(housing[col].value_counts().index, housing[col].value_counts())\n",
    "    plt.show()"
   ]
  },
  {
   "cell_type": "code",
   "execution_count": null,
   "id": "b013a4f8",
   "metadata": {},
   "outputs": [],
   "source": []
  },
  {
   "cell_type": "code",
   "execution_count": null,
   "id": "2ffa3263",
   "metadata": {},
   "outputs": [],
   "source": []
  },
  {
   "cell_type": "code",
   "execution_count": 63,
   "id": "7ae75350",
   "metadata": {},
   "outputs": [
    {
     "data": {
      "text/html": [
       "<div>\n",
       "<style scoped>\n",
       "    .dataframe tbody tr th:only-of-type {\n",
       "        vertical-align: middle;\n",
       "    }\n",
       "\n",
       "    .dataframe tbody tr th {\n",
       "        vertical-align: top;\n",
       "    }\n",
       "\n",
       "    .dataframe thead th {\n",
       "        text-align: right;\n",
       "    }\n",
       "</style>\n",
       "<table border=\"1\" class=\"dataframe\">\n",
       "  <thead>\n",
       "    <tr style=\"text-align: right;\">\n",
       "      <th></th>\n",
       "      <th>BsmtFinSF1</th>\n",
       "      <th>BsmtFinSF2</th>\n",
       "      <th>BsmtUnfSF</th>\n",
       "      <th>TotalBsmtSF</th>\n",
       "      <th>1stFlrSF</th>\n",
       "      <th>2ndFlrSF</th>\n",
       "      <th>LowQualFinSF</th>\n",
       "      <th>GrLivArea</th>\n",
       "      <th>BsmtFullBath</th>\n",
       "      <th>BsmtHalfBath</th>\n",
       "      <th>...</th>\n",
       "      <th>EnclosedPorch</th>\n",
       "      <th>3SsnPorch</th>\n",
       "      <th>ScreenPorch</th>\n",
       "      <th>PoolArea</th>\n",
       "      <th>MiscVal</th>\n",
       "      <th>MoSold</th>\n",
       "      <th>YrSold</th>\n",
       "      <th>SalePrice</th>\n",
       "      <th>MasVarArea</th>\n",
       "      <th>log_value</th>\n",
       "    </tr>\n",
       "  </thead>\n",
       "  <tbody>\n",
       "    <tr>\n",
       "      <th>0</th>\n",
       "      <td>706</td>\n",
       "      <td>0</td>\n",
       "      <td>150</td>\n",
       "      <td>856</td>\n",
       "      <td>856</td>\n",
       "      <td>854</td>\n",
       "      <td>0</td>\n",
       "      <td>1710</td>\n",
       "      <td>1</td>\n",
       "      <td>0</td>\n",
       "      <td>...</td>\n",
       "      <td>0</td>\n",
       "      <td>0</td>\n",
       "      <td>0</td>\n",
       "      <td>0</td>\n",
       "      <td>0</td>\n",
       "      <td>2</td>\n",
       "      <td>14</td>\n",
       "      <td>208500</td>\n",
       "      <td>196.0</td>\n",
       "      <td>12.247694</td>\n",
       "    </tr>\n",
       "    <tr>\n",
       "      <th>1</th>\n",
       "      <td>978</td>\n",
       "      <td>0</td>\n",
       "      <td>284</td>\n",
       "      <td>1262</td>\n",
       "      <td>1262</td>\n",
       "      <td>0</td>\n",
       "      <td>0</td>\n",
       "      <td>1262</td>\n",
       "      <td>0</td>\n",
       "      <td>1</td>\n",
       "      <td>...</td>\n",
       "      <td>0</td>\n",
       "      <td>0</td>\n",
       "      <td>0</td>\n",
       "      <td>0</td>\n",
       "      <td>0</td>\n",
       "      <td>5</td>\n",
       "      <td>15</td>\n",
       "      <td>181500</td>\n",
       "      <td>0.0</td>\n",
       "      <td>12.109011</td>\n",
       "    </tr>\n",
       "    <tr>\n",
       "      <th>2</th>\n",
       "      <td>486</td>\n",
       "      <td>0</td>\n",
       "      <td>434</td>\n",
       "      <td>920</td>\n",
       "      <td>920</td>\n",
       "      <td>866</td>\n",
       "      <td>0</td>\n",
       "      <td>1786</td>\n",
       "      <td>1</td>\n",
       "      <td>0</td>\n",
       "      <td>...</td>\n",
       "      <td>0</td>\n",
       "      <td>0</td>\n",
       "      <td>0</td>\n",
       "      <td>0</td>\n",
       "      <td>0</td>\n",
       "      <td>9</td>\n",
       "      <td>14</td>\n",
       "      <td>223500</td>\n",
       "      <td>162.0</td>\n",
       "      <td>12.317167</td>\n",
       "    </tr>\n",
       "    <tr>\n",
       "      <th>3</th>\n",
       "      <td>216</td>\n",
       "      <td>0</td>\n",
       "      <td>540</td>\n",
       "      <td>756</td>\n",
       "      <td>961</td>\n",
       "      <td>756</td>\n",
       "      <td>0</td>\n",
       "      <td>1717</td>\n",
       "      <td>1</td>\n",
       "      <td>0</td>\n",
       "      <td>...</td>\n",
       "      <td>272</td>\n",
       "      <td>0</td>\n",
       "      <td>0</td>\n",
       "      <td>0</td>\n",
       "      <td>0</td>\n",
       "      <td>2</td>\n",
       "      <td>16</td>\n",
       "      <td>140000</td>\n",
       "      <td>0.0</td>\n",
       "      <td>11.849398</td>\n",
       "    </tr>\n",
       "    <tr>\n",
       "      <th>4</th>\n",
       "      <td>655</td>\n",
       "      <td>0</td>\n",
       "      <td>490</td>\n",
       "      <td>1145</td>\n",
       "      <td>1145</td>\n",
       "      <td>1053</td>\n",
       "      <td>0</td>\n",
       "      <td>2198</td>\n",
       "      <td>1</td>\n",
       "      <td>0</td>\n",
       "      <td>...</td>\n",
       "      <td>0</td>\n",
       "      <td>0</td>\n",
       "      <td>0</td>\n",
       "      <td>0</td>\n",
       "      <td>0</td>\n",
       "      <td>12</td>\n",
       "      <td>14</td>\n",
       "      <td>250000</td>\n",
       "      <td>350.0</td>\n",
       "      <td>12.429216</td>\n",
       "    </tr>\n",
       "  </tbody>\n",
       "</table>\n",
       "<p>5 rows × 31 columns</p>\n",
       "</div>"
      ],
      "text/plain": [
       "   BsmtFinSF1  BsmtFinSF2  BsmtUnfSF  TotalBsmtSF  1stFlrSF  2ndFlrSF  \\\n",
       "0         706           0        150          856       856       854   \n",
       "1         978           0        284         1262      1262         0   \n",
       "2         486           0        434          920       920       866   \n",
       "3         216           0        540          756       961       756   \n",
       "4         655           0        490         1145      1145      1053   \n",
       "\n",
       "   LowQualFinSF  GrLivArea  BsmtFullBath  BsmtHalfBath  ...  EnclosedPorch  \\\n",
       "0             0       1710             1             0  ...              0   \n",
       "1             0       1262             0             1  ...              0   \n",
       "2             0       1786             1             0  ...              0   \n",
       "3             0       1717             1             0  ...            272   \n",
       "4             0       2198             1             0  ...              0   \n",
       "\n",
       "   3SsnPorch  ScreenPorch  PoolArea  MiscVal  MoSold  YrSold  SalePrice  \\\n",
       "0          0            0         0        0       2      14     208500   \n",
       "1          0            0         0        0       5      15     181500   \n",
       "2          0            0         0        0       9      14     223500   \n",
       "3          0            0         0        0       2      16     140000   \n",
       "4          0            0         0        0      12      14     250000   \n",
       "\n",
       "   MasVarArea  log_value  \n",
       "0       196.0  12.247694  \n",
       "1         0.0  12.109011  \n",
       "2       162.0  12.317167  \n",
       "3         0.0  11.849398  \n",
       "4       350.0  12.429216  \n",
       "\n",
       "[5 rows x 31 columns]"
      ]
     },
     "execution_count": 63,
     "metadata": {},
     "output_type": "execute_result"
    }
   ],
   "source": [
    "##Data exploration: we need to make pairs of all independent vatiables\n",
    "housing_numeric = housing.select_dtypes(include=['float', 'int64'])\n",
    "housing_numeric.head()\n"
   ]
  },
  {
   "cell_type": "code",
   "execution_count": 64,
   "id": "4acd0931",
   "metadata": {},
   "outputs": [
    {
     "data": {
      "text/plain": [
       "0    856\n",
       "1    588\n",
       "2     15\n",
       "3      1\n",
       "Name: BsmtFullBath, dtype: int64"
      ]
     },
     "execution_count": 64,
     "metadata": {},
     "output_type": "execute_result"
    }
   ],
   "source": [
    "housing['BsmtFullBath'].value_counts()"
   ]
  },
  {
   "cell_type": "code",
   "execution_count": 65,
   "id": "b420fbb0",
   "metadata": {},
   "outputs": [
    {
     "data": {
      "text/plain": [
       "0    1378\n",
       "1      80\n",
       "2       2\n",
       "Name: BsmtHalfBath, dtype: int64"
      ]
     },
     "execution_count": 65,
     "metadata": {},
     "output_type": "execute_result"
    }
   ],
   "source": [
    "housing['BsmtHalfBath'].value_counts()"
   ]
  },
  {
   "cell_type": "code",
   "execution_count": 66,
   "id": "59752b6a",
   "metadata": {},
   "outputs": [
    {
     "data": {
      "image/png": "[encoded data removed]",
      "text/plain": [
       "<Figure size 1152x576 with 2 Axes>"
      ]
     },
     "metadata": {
      "needs_background": "light"
     },
     "output_type": "display_data"
    }
   ],
   "source": [
    "#Find correalation matrix\n",
    "cor = housing_numeric.corr()\n",
    "\n",
    "plt.figure(figsize=(16,8))\n",
    "\n",
    "sns.heatmap(cor, cmap='YlGnBu', annot=True)\n",
    "plt.show()"
   ]
  },
  {
   "cell_type": "code",
   "execution_count": 67,
   "id": "bd908d77",
   "metadata": {},
   "outputs": [
    {
     "data": {
      "text/html": [
       "<div>\n",
       "<style scoped>\n",
       "    .dataframe tbody tr th:only-of-type {\n",
       "        vertical-align: middle;\n",
       "    }\n",
       "\n",
       "    .dataframe tbody tr th {\n",
       "        vertical-align: top;\n",
       "    }\n",
       "\n",
       "    .dataframe thead th {\n",
       "        text-align: right;\n",
       "    }\n",
       "</style>\n",
       "<table border=\"1\" class=\"dataframe\">\n",
       "  <thead>\n",
       "    <tr style=\"text-align: right;\">\n",
       "      <th></th>\n",
       "      <th>BsmtFinSF1</th>\n",
       "      <th>BsmtFinSF2</th>\n",
       "      <th>BsmtUnfSF</th>\n",
       "      <th>TotalBsmtSF</th>\n",
       "      <th>1stFlrSF</th>\n",
       "      <th>2ndFlrSF</th>\n",
       "      <th>LowQualFinSF</th>\n",
       "      <th>GrLivArea</th>\n",
       "      <th>BsmtFullBath</th>\n",
       "      <th>BsmtHalfBath</th>\n",
       "      <th>...</th>\n",
       "      <th>EnclosedPorch</th>\n",
       "      <th>3SsnPorch</th>\n",
       "      <th>ScreenPorch</th>\n",
       "      <th>PoolArea</th>\n",
       "      <th>MiscVal</th>\n",
       "      <th>MoSold</th>\n",
       "      <th>YrSold</th>\n",
       "      <th>SalePrice</th>\n",
       "      <th>MasVarArea</th>\n",
       "      <th>log_value</th>\n",
       "    </tr>\n",
       "  </thead>\n",
       "  <tbody>\n",
       "    <tr>\n",
       "      <th>BsmtFinSF1</th>\n",
       "      <td>100.000000</td>\n",
       "      <td>-5.011740</td>\n",
       "      <td>-49.525147</td>\n",
       "      <td>52.239605</td>\n",
       "      <td>44.586266</td>\n",
       "      <td>-13.707899</td>\n",
       "      <td>-6.450260</td>\n",
       "      <td>20.817113</td>\n",
       "      <td>64.921175</td>\n",
       "      <td>6.741848</td>\n",
       "      <td>...</td>\n",
       "      <td>-10.230331</td>\n",
       "      <td>2.645051</td>\n",
       "      <td>6.202062</td>\n",
       "      <td>14.049129</td>\n",
       "      <td>0.357147</td>\n",
       "      <td>-1.572695</td>\n",
       "      <td>-1.435892</td>\n",
       "      <td>38.641981</td>\n",
       "      <td>26.125605</td>\n",
       "      <td>37.202307</td>\n",
       "    </tr>\n",
       "    <tr>\n",
       "      <th>BsmtFinSF2</th>\n",
       "      <td>-5.011740</td>\n",
       "      <td>100.000000</td>\n",
       "      <td>-20.929449</td>\n",
       "      <td>10.480954</td>\n",
       "      <td>9.711745</td>\n",
       "      <td>-9.926032</td>\n",
       "      <td>1.480700</td>\n",
       "      <td>-0.963989</td>\n",
       "      <td>15.867806</td>\n",
       "      <td>7.094813</td>\n",
       "      <td>...</td>\n",
       "      <td>3.654334</td>\n",
       "      <td>-2.999340</td>\n",
       "      <td>8.887125</td>\n",
       "      <td>4.170905</td>\n",
       "      <td>0.493978</td>\n",
       "      <td>-1.521074</td>\n",
       "      <td>-3.170564</td>\n",
       "      <td>-1.137812</td>\n",
       "      <td>-7.132963</td>\n",
       "      <td>0.483241</td>\n",
       "    </tr>\n",
       "    <tr>\n",
       "      <th>BsmtUnfSF</th>\n",
       "      <td>-49.525147</td>\n",
       "      <td>-20.929449</td>\n",
       "      <td>100.000000</td>\n",
       "      <td>41.535961</td>\n",
       "      <td>31.798744</td>\n",
       "      <td>0.446909</td>\n",
       "      <td>2.816669</td>\n",
       "      <td>24.025727</td>\n",
       "      <td>-42.290048</td>\n",
       "      <td>-9.580429</td>\n",
       "      <td>...</td>\n",
       "      <td>-0.253785</td>\n",
       "      <td>2.076401</td>\n",
       "      <td>-1.257927</td>\n",
       "      <td>-3.509224</td>\n",
       "      <td>-2.383665</td>\n",
       "      <td>3.488844</td>\n",
       "      <td>4.125819</td>\n",
       "      <td>21.447911</td>\n",
       "      <td>11.386216</td>\n",
       "      <td>22.198505</td>\n",
       "    </tr>\n",
       "    <tr>\n",
       "      <th>TotalBsmtSF</th>\n",
       "      <td>52.239605</td>\n",
       "      <td>10.480954</td>\n",
       "      <td>41.535961</td>\n",
       "      <td>100.000000</td>\n",
       "      <td>81.952998</td>\n",
       "      <td>-17.451195</td>\n",
       "      <td>-3.324539</td>\n",
       "      <td>45.486820</td>\n",
       "      <td>30.735055</td>\n",
       "      <td>-0.031458</td>\n",
       "      <td>...</td>\n",
       "      <td>-9.547774</td>\n",
       "      <td>3.738373</td>\n",
       "      <td>8.448899</td>\n",
       "      <td>12.605313</td>\n",
       "      <td>-1.847892</td>\n",
       "      <td>1.319618</td>\n",
       "      <td>1.496865</td>\n",
       "      <td>61.358055</td>\n",
       "      <td>36.006737</td>\n",
       "      <td>61.213398</td>\n",
       "    </tr>\n",
       "    <tr>\n",
       "      <th>1stFlrSF</th>\n",
       "      <td>44.586266</td>\n",
       "      <td>9.711745</td>\n",
       "      <td>31.798744</td>\n",
       "      <td>81.952998</td>\n",
       "      <td>100.000000</td>\n",
       "      <td>-20.264618</td>\n",
       "      <td>-1.424067</td>\n",
       "      <td>56.602397</td>\n",
       "      <td>24.467110</td>\n",
       "      <td>0.195565</td>\n",
       "      <td>...</td>\n",
       "      <td>-6.529170</td>\n",
       "      <td>5.610437</td>\n",
       "      <td>8.875807</td>\n",
       "      <td>13.152498</td>\n",
       "      <td>-2.109572</td>\n",
       "      <td>3.137156</td>\n",
       "      <td>1.360377</td>\n",
       "      <td>60.585218</td>\n",
       "      <td>33.985041</td>\n",
       "      <td>59.698105</td>\n",
       "    </tr>\n",
       "    <tr>\n",
       "      <th>2ndFlrSF</th>\n",
       "      <td>-13.707899</td>\n",
       "      <td>-9.926032</td>\n",
       "      <td>0.446909</td>\n",
       "      <td>-17.451195</td>\n",
       "      <td>-20.264618</td>\n",
       "      <td>100.000000</td>\n",
       "      <td>6.335295</td>\n",
       "      <td>68.750106</td>\n",
       "      <td>-16.949395</td>\n",
       "      <td>-2.385478</td>\n",
       "      <td>...</td>\n",
       "      <td>6.198869</td>\n",
       "      <td>-2.435765</td>\n",
       "      <td>4.060645</td>\n",
       "      <td>8.148688</td>\n",
       "      <td>1.619687</td>\n",
       "      <td>3.516443</td>\n",
       "      <td>2.869991</td>\n",
       "      <td>31.933380</td>\n",
       "      <td>17.380000</td>\n",
       "      <td>31.929998</td>\n",
       "    </tr>\n",
       "    <tr>\n",
       "      <th>LowQualFinSF</th>\n",
       "      <td>-6.450260</td>\n",
       "      <td>1.480700</td>\n",
       "      <td>2.816669</td>\n",
       "      <td>-3.324539</td>\n",
       "      <td>-1.424067</td>\n",
       "      <td>6.335295</td>\n",
       "      <td>100.000000</td>\n",
       "      <td>13.468281</td>\n",
       "      <td>-4.714342</td>\n",
       "      <td>-0.584150</td>\n",
       "      <td>...</td>\n",
       "      <td>6.108124</td>\n",
       "      <td>-0.429561</td>\n",
       "      <td>2.679941</td>\n",
       "      <td>6.215737</td>\n",
       "      <td>-0.379287</td>\n",
       "      <td>-2.217396</td>\n",
       "      <td>2.892088</td>\n",
       "      <td>-2.560613</td>\n",
       "      <td>-6.862798</td>\n",
       "      <td>-3.796280</td>\n",
       "    </tr>\n",
       "    <tr>\n",
       "      <th>GrLivArea</th>\n",
       "      <td>20.817113</td>\n",
       "      <td>-0.963989</td>\n",
       "      <td>24.025727</td>\n",
       "      <td>45.486820</td>\n",
       "      <td>56.602397</td>\n",
       "      <td>68.750106</td>\n",
       "      <td>13.468281</td>\n",
       "      <td>100.000000</td>\n",
       "      <td>3.483605</td>\n",
       "      <td>-1.891848</td>\n",
       "      <td>...</td>\n",
       "      <td>0.911321</td>\n",
       "      <td>2.064319</td>\n",
       "      <td>10.151040</td>\n",
       "      <td>17.020534</td>\n",
       "      <td>-0.241564</td>\n",
       "      <td>5.023968</td>\n",
       "      <td>3.652582</td>\n",
       "      <td>70.862448</td>\n",
       "      <td>38.805205</td>\n",
       "      <td>70.092665</td>\n",
       "    </tr>\n",
       "    <tr>\n",
       "      <th>BsmtFullBath</th>\n",
       "      <td>64.921175</td>\n",
       "      <td>15.867806</td>\n",
       "      <td>-42.290048</td>\n",
       "      <td>30.735055</td>\n",
       "      <td>24.467110</td>\n",
       "      <td>-16.949395</td>\n",
       "      <td>-4.714342</td>\n",
       "      <td>3.483605</td>\n",
       "      <td>100.000000</td>\n",
       "      <td>-14.787096</td>\n",
       "      <td>...</td>\n",
       "      <td>-4.991065</td>\n",
       "      <td>-0.010609</td>\n",
       "      <td>2.314773</td>\n",
       "      <td>6.761556</td>\n",
       "      <td>-2.304702</td>\n",
       "      <td>-2.536089</td>\n",
       "      <td>-6.704914</td>\n",
       "      <td>22.712223</td>\n",
       "      <td>8.301005</td>\n",
       "      <td>23.622411</td>\n",
       "    </tr>\n",
       "    <tr>\n",
       "      <th>BsmtHalfBath</th>\n",
       "      <td>6.741848</td>\n",
       "      <td>7.094813</td>\n",
       "      <td>-9.580429</td>\n",
       "      <td>-0.031458</td>\n",
       "      <td>0.195565</td>\n",
       "      <td>-2.385478</td>\n",
       "      <td>-0.584150</td>\n",
       "      <td>-1.891848</td>\n",
       "      <td>-14.787096</td>\n",
       "      <td>100.000000</td>\n",
       "      <td>...</td>\n",
       "      <td>-0.855533</td>\n",
       "      <td>3.511363</td>\n",
       "      <td>3.212141</td>\n",
       "      <td>2.002463</td>\n",
       "      <td>-0.736652</td>\n",
       "      <td>3.287271</td>\n",
       "      <td>4.652388</td>\n",
       "      <td>-1.684415</td>\n",
       "      <td>2.740266</td>\n",
       "      <td>-0.514909</td>\n",
       "    </tr>\n",
       "    <tr>\n",
       "      <th>FullBath</th>\n",
       "      <td>5.854314</td>\n",
       "      <td>-7.644386</td>\n",
       "      <td>28.888606</td>\n",
       "      <td>32.372241</td>\n",
       "      <td>38.063749</td>\n",
       "      <td>42.137798</td>\n",
       "      <td>-0.070951</td>\n",
       "      <td>63.001165</td>\n",
       "      <td>-6.451205</td>\n",
       "      <td>-5.453581</td>\n",
       "      <td>...</td>\n",
       "      <td>-11.509296</td>\n",
       "      <td>3.535302</td>\n",
       "      <td>-0.810609</td>\n",
       "      <td>4.960383</td>\n",
       "      <td>-1.428984</td>\n",
       "      <td>5.587213</td>\n",
       "      <td>1.966884</td>\n",
       "      <td>56.066376</td>\n",
       "      <td>27.299886</td>\n",
       "      <td>59.477054</td>\n",
       "    </tr>\n",
       "    <tr>\n",
       "      <th>HalfBath</th>\n",
       "      <td>0.426242</td>\n",
       "      <td>-3.214784</td>\n",
       "      <td>-4.111753</td>\n",
       "      <td>-4.880374</td>\n",
       "      <td>-11.991591</td>\n",
       "      <td>60.970730</td>\n",
       "      <td>-2.708005</td>\n",
       "      <td>41.577164</td>\n",
       "      <td>-3.090496</td>\n",
       "      <td>-1.233990</td>\n",
       "      <td>...</td>\n",
       "      <td>-9.531653</td>\n",
       "      <td>-0.497249</td>\n",
       "      <td>7.242585</td>\n",
       "      <td>2.238150</td>\n",
       "      <td>0.129014</td>\n",
       "      <td>-0.904989</td>\n",
       "      <td>1.026867</td>\n",
       "      <td>28.410768</td>\n",
       "      <td>19.910752</td>\n",
       "      <td>31.398225</td>\n",
       "    </tr>\n",
       "    <tr>\n",
       "      <th>BedroomAbvGr</th>\n",
       "      <td>-10.735468</td>\n",
       "      <td>-1.572811</td>\n",
       "      <td>16.664332</td>\n",
       "      <td>5.044996</td>\n",
       "      <td>12.740075</td>\n",
       "      <td>50.290061</td>\n",
       "      <td>10.560657</td>\n",
       "      <td>52.126951</td>\n",
       "      <td>-15.067281</td>\n",
       "      <td>4.651885</td>\n",
       "      <td>...</td>\n",
       "      <td>4.157043</td>\n",
       "      <td>-2.447780</td>\n",
       "      <td>4.429969</td>\n",
       "      <td>7.070258</td>\n",
       "      <td>0.776697</td>\n",
       "      <td>4.654386</td>\n",
       "      <td>3.601389</td>\n",
       "      <td>16.821315</td>\n",
       "      <td>10.277452</td>\n",
       "      <td>20.904368</td>\n",
       "    </tr>\n",
       "    <tr>\n",
       "      <th>KitchenAbvGr</th>\n",
       "      <td>-8.100685</td>\n",
       "      <td>-4.075124</td>\n",
       "      <td>3.008587</td>\n",
       "      <td>-6.890064</td>\n",
       "      <td>6.810059</td>\n",
       "      <td>5.930575</td>\n",
       "      <td>0.752174</td>\n",
       "      <td>10.006316</td>\n",
       "      <td>-4.150255</td>\n",
       "      <td>-3.794435</td>\n",
       "      <td>...</td>\n",
       "      <td>3.731239</td>\n",
       "      <td>-2.460036</td>\n",
       "      <td>-5.161337</td>\n",
       "      <td>-1.452512</td>\n",
       "      <td>6.234072</td>\n",
       "      <td>2.658891</td>\n",
       "      <td>-3.168721</td>\n",
       "      <td>-13.590737</td>\n",
       "      <td>-3.845011</td>\n",
       "      <td>-14.754809</td>\n",
       "    </tr>\n",
       "    <tr>\n",
       "      <th>TotRmsAbvGrd</th>\n",
       "      <td>4.431562</td>\n",
       "      <td>-3.522655</td>\n",
       "      <td>25.064706</td>\n",
       "      <td>28.557256</td>\n",
       "      <td>40.951598</td>\n",
       "      <td>61.642264</td>\n",
       "      <td>13.118478</td>\n",
       "      <td>82.548937</td>\n",
       "      <td>-5.327524</td>\n",
       "      <td>-2.383634</td>\n",
       "      <td>...</td>\n",
       "      <td>0.415130</td>\n",
       "      <td>-0.668324</td>\n",
       "      <td>5.938260</td>\n",
       "      <td>8.375735</td>\n",
       "      <td>2.476288</td>\n",
       "      <td>3.690708</td>\n",
       "      <td>3.451635</td>\n",
       "      <td>53.372316</td>\n",
       "      <td>27.956789</td>\n",
       "      <td>53.442220</td>\n",
       "    </tr>\n",
       "    <tr>\n",
       "      <th>Fireplaces</th>\n",
       "      <td>26.001092</td>\n",
       "      <td>4.692071</td>\n",
       "      <td>5.157488</td>\n",
       "      <td>33.951932</td>\n",
       "      <td>41.053108</td>\n",
       "      <td>19.456089</td>\n",
       "      <td>-2.127214</td>\n",
       "      <td>46.167913</td>\n",
       "      <td>13.792771</td>\n",
       "      <td>2.897559</td>\n",
       "      <td>...</td>\n",
       "      <td>-2.482187</td>\n",
       "      <td>1.125724</td>\n",
       "      <td>18.453027</td>\n",
       "      <td>9.507352</td>\n",
       "      <td>0.140861</td>\n",
       "      <td>4.635710</td>\n",
       "      <td>2.409556</td>\n",
       "      <td>46.692884</td>\n",
       "      <td>24.701528</td>\n",
       "      <td>48.944943</td>\n",
       "    </tr>\n",
       "    <tr>\n",
       "      <th>GarageYrBlt</th>\n",
       "      <td>-15.033789</td>\n",
       "      <td>8.712635</td>\n",
       "      <td>-18.609843</td>\n",
       "      <td>-31.169992</td>\n",
       "      <td>-22.712704</td>\n",
       "      <td>-6.931503</td>\n",
       "      <td>2.916702</td>\n",
       "      <td>-22.197654</td>\n",
       "      <td>-11.991247</td>\n",
       "      <td>7.513503</td>\n",
       "      <td>...</td>\n",
       "      <td>28.588228</td>\n",
       "      <td>-2.353433</td>\n",
       "      <td>7.525562</td>\n",
       "      <td>1.449867</td>\n",
       "      <td>3.185342</td>\n",
       "      <td>-0.517342</td>\n",
       "      <td>-0.098730</td>\n",
       "      <td>-47.017745</td>\n",
       "      <td>-24.617754</td>\n",
       "      <td>-50.044891</td>\n",
       "    </tr>\n",
       "    <tr>\n",
       "      <th>GarageCars</th>\n",
       "      <td>22.405352</td>\n",
       "      <td>-3.826351</td>\n",
       "      <td>21.417519</td>\n",
       "      <td>43.458483</td>\n",
       "      <td>43.931681</td>\n",
       "      <td>18.392558</td>\n",
       "      <td>-9.447952</td>\n",
       "      <td>46.724742</td>\n",
       "      <td>13.188122</td>\n",
       "      <td>-2.089106</td>\n",
       "      <td>...</td>\n",
       "      <td>-15.143416</td>\n",
       "      <td>3.576529</td>\n",
       "      <td>5.049379</td>\n",
       "      <td>2.093353</td>\n",
       "      <td>-4.308013</td>\n",
       "      <td>4.052173</td>\n",
       "      <td>3.911690</td>\n",
       "      <td>64.040920</td>\n",
       "      <td>36.194457</td>\n",
       "      <td>68.062481</td>\n",
       "    </tr>\n",
       "    <tr>\n",
       "      <th>GarageArea</th>\n",
       "      <td>29.697039</td>\n",
       "      <td>-1.822659</td>\n",
       "      <td>18.330270</td>\n",
       "      <td>48.666546</td>\n",
       "      <td>48.978165</td>\n",
       "      <td>13.834696</td>\n",
       "      <td>-6.760141</td>\n",
       "      <td>46.899748</td>\n",
       "      <td>17.918948</td>\n",
       "      <td>-2.453558</td>\n",
       "      <td>...</td>\n",
       "      <td>-12.177672</td>\n",
       "      <td>3.508670</td>\n",
       "      <td>5.141176</td>\n",
       "      <td>6.104727</td>\n",
       "      <td>-2.739991</td>\n",
       "      <td>2.797380</td>\n",
       "      <td>2.737794</td>\n",
       "      <td>62.343144</td>\n",
       "      <td>37.088415</td>\n",
       "      <td>65.088756</td>\n",
       "    </tr>\n",
       "    <tr>\n",
       "      <th>WoodDeckSF</th>\n",
       "      <td>20.430615</td>\n",
       "      <td>6.789833</td>\n",
       "      <td>-0.531642</td>\n",
       "      <td>23.201861</td>\n",
       "      <td>23.545862</td>\n",
       "      <td>9.216542</td>\n",
       "      <td>-2.544365</td>\n",
       "      <td>24.743282</td>\n",
       "      <td>17.531519</td>\n",
       "      <td>4.016122</td>\n",
       "      <td>...</td>\n",
       "      <td>-12.598889</td>\n",
       "      <td>-3.277063</td>\n",
       "      <td>-7.418135</td>\n",
       "      <td>7.337821</td>\n",
       "      <td>-0.955123</td>\n",
       "      <td>2.101104</td>\n",
       "      <td>-2.227045</td>\n",
       "      <td>32.441344</td>\n",
       "      <td>15.999053</td>\n",
       "      <td>33.413507</td>\n",
       "    </tr>\n",
       "    <tr>\n",
       "      <th>OpenPorchSF</th>\n",
       "      <td>11.176061</td>\n",
       "      <td>0.309256</td>\n",
       "      <td>12.900541</td>\n",
       "      <td>24.726375</td>\n",
       "      <td>21.167123</td>\n",
       "      <td>20.802606</td>\n",
       "      <td>1.825104</td>\n",
       "      <td>33.022396</td>\n",
       "      <td>6.734146</td>\n",
       "      <td>-2.532376</td>\n",
       "      <td>...</td>\n",
       "      <td>-9.307932</td>\n",
       "      <td>-0.584250</td>\n",
       "      <td>7.430394</td>\n",
       "      <td>6.076211</td>\n",
       "      <td>-1.858374</td>\n",
       "      <td>7.125488</td>\n",
       "      <td>5.761936</td>\n",
       "      <td>31.585623</td>\n",
       "      <td>12.252833</td>\n",
       "      <td>32.105297</td>\n",
       "    </tr>\n",
       "    <tr>\n",
       "      <th>EnclosedPorch</th>\n",
       "      <td>-10.230331</td>\n",
       "      <td>3.654334</td>\n",
       "      <td>-0.253785</td>\n",
       "      <td>-9.547774</td>\n",
       "      <td>-6.529170</td>\n",
       "      <td>6.198869</td>\n",
       "      <td>6.108124</td>\n",
       "      <td>0.911321</td>\n",
       "      <td>-4.991065</td>\n",
       "      <td>-0.855533</td>\n",
       "      <td>...</td>\n",
       "      <td>100.000000</td>\n",
       "      <td>-3.730528</td>\n",
       "      <td>-8.286424</td>\n",
       "      <td>5.420256</td>\n",
       "      <td>1.836060</td>\n",
       "      <td>-2.888727</td>\n",
       "      <td>0.991594</td>\n",
       "      <td>-12.857796</td>\n",
       "      <td>-10.990680</td>\n",
       "      <td>-14.905028</td>\n",
       "    </tr>\n",
       "    <tr>\n",
       "      <th>3SsnPorch</th>\n",
       "      <td>2.645051</td>\n",
       "      <td>-2.999340</td>\n",
       "      <td>2.076401</td>\n",
       "      <td>3.738373</td>\n",
       "      <td>5.610437</td>\n",
       "      <td>-2.435765</td>\n",
       "      <td>-0.429561</td>\n",
       "      <td>2.064319</td>\n",
       "      <td>-0.010609</td>\n",
       "      <td>3.511363</td>\n",
       "      <td>...</td>\n",
       "      <td>-3.730528</td>\n",
       "      <td>100.000000</td>\n",
       "      <td>-3.143585</td>\n",
       "      <td>-0.799155</td>\n",
       "      <td>0.035397</td>\n",
       "      <td>2.947380</td>\n",
       "      <td>-1.864493</td>\n",
       "      <td>4.458367</td>\n",
       "      <td>1.914378</td>\n",
       "      <td>5.490023</td>\n",
       "    </tr>\n",
       "    <tr>\n",
       "      <th>ScreenPorch</th>\n",
       "      <td>6.202062</td>\n",
       "      <td>8.887125</td>\n",
       "      <td>-1.257927</td>\n",
       "      <td>8.448899</td>\n",
       "      <td>8.875807</td>\n",
       "      <td>4.060645</td>\n",
       "      <td>2.679941</td>\n",
       "      <td>10.151040</td>\n",
       "      <td>2.314773</td>\n",
       "      <td>3.212141</td>\n",
       "      <td>...</td>\n",
       "      <td>-8.286424</td>\n",
       "      <td>-3.143585</td>\n",
       "      <td>100.000000</td>\n",
       "      <td>5.130739</td>\n",
       "      <td>3.194576</td>\n",
       "      <td>2.321699</td>\n",
       "      <td>-1.069411</td>\n",
       "      <td>11.144657</td>\n",
       "      <td>6.224771</td>\n",
       "      <td>12.120760</td>\n",
       "    </tr>\n",
       "    <tr>\n",
       "      <th>PoolArea</th>\n",
       "      <td>14.049129</td>\n",
       "      <td>4.170905</td>\n",
       "      <td>-3.509224</td>\n",
       "      <td>12.605313</td>\n",
       "      <td>13.152498</td>\n",
       "      <td>8.148688</td>\n",
       "      <td>6.215737</td>\n",
       "      <td>17.020534</td>\n",
       "      <td>6.761556</td>\n",
       "      <td>2.002463</td>\n",
       "      <td>...</td>\n",
       "      <td>5.420256</td>\n",
       "      <td>-0.799155</td>\n",
       "      <td>5.130739</td>\n",
       "      <td>100.000000</td>\n",
       "      <td>2.966865</td>\n",
       "      <td>-3.373664</td>\n",
       "      <td>5.968893</td>\n",
       "      <td>9.240355</td>\n",
       "      <td>1.192839</td>\n",
       "      <td>6.979781</td>\n",
       "    </tr>\n",
       "    <tr>\n",
       "      <th>MiscVal</th>\n",
       "      <td>0.357147</td>\n",
       "      <td>0.493978</td>\n",
       "      <td>-2.383665</td>\n",
       "      <td>-1.847892</td>\n",
       "      <td>-2.109572</td>\n",
       "      <td>1.619687</td>\n",
       "      <td>-0.379287</td>\n",
       "      <td>-0.241564</td>\n",
       "      <td>-2.304702</td>\n",
       "      <td>-0.736652</td>\n",
       "      <td>...</td>\n",
       "      <td>1.836060</td>\n",
       "      <td>0.035397</td>\n",
       "      <td>3.194576</td>\n",
       "      <td>2.966865</td>\n",
       "      <td>100.000000</td>\n",
       "      <td>-0.649455</td>\n",
       "      <td>-0.490626</td>\n",
       "      <td>-2.118958</td>\n",
       "      <td>-2.951225</td>\n",
       "      <td>-2.002082</td>\n",
       "    </tr>\n",
       "    <tr>\n",
       "      <th>MoSold</th>\n",
       "      <td>-1.572695</td>\n",
       "      <td>-1.521074</td>\n",
       "      <td>3.488844</td>\n",
       "      <td>1.319618</td>\n",
       "      <td>3.137156</td>\n",
       "      <td>3.516443</td>\n",
       "      <td>-2.217396</td>\n",
       "      <td>5.023968</td>\n",
       "      <td>-2.536089</td>\n",
       "      <td>3.287271</td>\n",
       "      <td>...</td>\n",
       "      <td>-2.888727</td>\n",
       "      <td>2.947380</td>\n",
       "      <td>2.321699</td>\n",
       "      <td>-3.373664</td>\n",
       "      <td>-0.649455</td>\n",
       "      <td>100.000000</td>\n",
       "      <td>14.572141</td>\n",
       "      <td>4.643225</td>\n",
       "      <td>-0.672320</td>\n",
       "      <td>5.732948</td>\n",
       "    </tr>\n",
       "    <tr>\n",
       "      <th>YrSold</th>\n",
       "      <td>-1.435892</td>\n",
       "      <td>-3.170564</td>\n",
       "      <td>4.125819</td>\n",
       "      <td>1.496865</td>\n",
       "      <td>1.360377</td>\n",
       "      <td>2.869991</td>\n",
       "      <td>2.892088</td>\n",
       "      <td>3.652582</td>\n",
       "      <td>-6.704914</td>\n",
       "      <td>4.652388</td>\n",
       "      <td>...</td>\n",
       "      <td>0.991594</td>\n",
       "      <td>-1.864493</td>\n",
       "      <td>-1.069411</td>\n",
       "      <td>5.968893</td>\n",
       "      <td>-0.490626</td>\n",
       "      <td>14.572141</td>\n",
       "      <td>100.000000</td>\n",
       "      <td>2.892259</td>\n",
       "      <td>0.831662</td>\n",
       "      <td>3.726297</td>\n",
       "    </tr>\n",
       "    <tr>\n",
       "      <th>SalePrice</th>\n",
       "      <td>38.641981</td>\n",
       "      <td>-1.137812</td>\n",
       "      <td>21.447911</td>\n",
       "      <td>61.358055</td>\n",
       "      <td>60.585218</td>\n",
       "      <td>31.933380</td>\n",
       "      <td>-2.560613</td>\n",
       "      <td>70.862448</td>\n",
       "      <td>22.712223</td>\n",
       "      <td>-1.684415</td>\n",
       "      <td>...</td>\n",
       "      <td>-12.857796</td>\n",
       "      <td>4.458367</td>\n",
       "      <td>11.144657</td>\n",
       "      <td>9.240355</td>\n",
       "      <td>-2.118958</td>\n",
       "      <td>4.643225</td>\n",
       "      <td>2.892259</td>\n",
       "      <td>100.000000</td>\n",
       "      <td>47.261450</td>\n",
       "      <td>94.837373</td>\n",
       "    </tr>\n",
       "    <tr>\n",
       "      <th>MasVarArea</th>\n",
       "      <td>26.125605</td>\n",
       "      <td>-7.132963</td>\n",
       "      <td>11.386216</td>\n",
       "      <td>36.006737</td>\n",
       "      <td>33.985041</td>\n",
       "      <td>17.380000</td>\n",
       "      <td>-6.862798</td>\n",
       "      <td>38.805205</td>\n",
       "      <td>8.301005</td>\n",
       "      <td>2.740266</td>\n",
       "      <td>...</td>\n",
       "      <td>-10.990680</td>\n",
       "      <td>1.914378</td>\n",
       "      <td>6.224771</td>\n",
       "      <td>1.192839</td>\n",
       "      <td>-2.951225</td>\n",
       "      <td>-0.672320</td>\n",
       "      <td>0.831662</td>\n",
       "      <td>47.261450</td>\n",
       "      <td>100.000000</td>\n",
       "      <td>42.677513</td>\n",
       "    </tr>\n",
       "    <tr>\n",
       "      <th>log_value</th>\n",
       "      <td>37.202307</td>\n",
       "      <td>0.483241</td>\n",
       "      <td>22.198505</td>\n",
       "      <td>61.213398</td>\n",
       "      <td>59.698105</td>\n",
       "      <td>31.929998</td>\n",
       "      <td>-3.796280</td>\n",
       "      <td>70.092665</td>\n",
       "      <td>23.622411</td>\n",
       "      <td>-0.514909</td>\n",
       "      <td>...</td>\n",
       "      <td>-14.905028</td>\n",
       "      <td>5.490023</td>\n",
       "      <td>12.120760</td>\n",
       "      <td>6.979781</td>\n",
       "      <td>-2.002082</td>\n",
       "      <td>5.732948</td>\n",
       "      <td>3.726297</td>\n",
       "      <td>94.837373</td>\n",
       "      <td>42.677513</td>\n",
       "      <td>100.000000</td>\n",
       "    </tr>\n",
       "  </tbody>\n",
       "</table>\n",
       "<p>31 rows × 31 columns</p>\n",
       "</div>"
      ],
      "text/plain": [
       "               BsmtFinSF1  BsmtFinSF2   BsmtUnfSF  TotalBsmtSF    1stFlrSF  \\\n",
       "BsmtFinSF1     100.000000   -5.011740  -49.525147    52.239605   44.586266   \n",
       "BsmtFinSF2      -5.011740  100.000000  -20.929449    10.480954    9.711745   \n",
       "BsmtUnfSF      -49.525147  -20.929449  100.000000    41.535961   31.798744   \n",
       "TotalBsmtSF     52.239605   10.480954   41.535961   100.000000   81.952998   \n",
       "1stFlrSF        44.586266    9.711745   31.798744    81.952998  100.000000   \n",
       "2ndFlrSF       -13.707899   -9.926032    0.446909   -17.451195  -20.264618   \n",
       "LowQualFinSF    -6.450260    1.480700    2.816669    -3.324539   -1.424067   \n",
       "GrLivArea       20.817113   -0.963989   24.025727    45.486820   56.602397   \n",
       "BsmtFullBath    64.921175   15.867806  -42.290048    30.735055   24.467110   \n",
       "BsmtHalfBath     6.741848    7.094813   -9.580429    -0.031458    0.195565   \n",
       "FullBath         5.854314   -7.644386   28.888606    32.372241   38.063749   \n",
       "HalfBath         0.426242   -3.214784   -4.111753    -4.880374  -11.991591   \n",
       "BedroomAbvGr   -10.735468   -1.572811   16.664332     5.044996   12.740075   \n",
       "KitchenAbvGr    -8.100685   -4.075124    3.008587    -6.890064    6.810059   \n",
       "TotRmsAbvGrd     4.431562   -3.522655   25.064706    28.557256   40.951598   \n",
       "Fireplaces      26.001092    4.692071    5.157488    33.951932   41.053108   \n",
       "GarageYrBlt    -15.033789    8.712635  -18.609843   -31.169992  -22.712704   \n",
       "GarageCars      22.405352   -3.826351   21.417519    43.458483   43.931681   \n",
       "GarageArea      29.697039   -1.822659   18.330270    48.666546   48.978165   \n",
       "WoodDeckSF      20.430615    6.789833   -0.531642    23.201861   23.545862   \n",
       "OpenPorchSF     11.176061    0.309256   12.900541    24.726375   21.167123   \n",
       "EnclosedPorch  -10.230331    3.654334   -0.253785    -9.547774   -6.529170   \n",
       "3SsnPorch        2.645051   -2.999340    2.076401     3.738373    5.610437   \n",
       "ScreenPorch      6.202062    8.887125   -1.257927     8.448899    8.875807   \n",
       "PoolArea        14.049129    4.170905   -3.509224    12.605313   13.152498   \n",
       "MiscVal          0.357147    0.493978   -2.383665    -1.847892   -2.109572   \n",
       "MoSold          -1.572695   -1.521074    3.488844     1.319618    3.137156   \n",
       "YrSold          -1.435892   -3.170564    4.125819     1.496865    1.360377   \n",
       "SalePrice       38.641981   -1.137812   21.447911    61.358055   60.585218   \n",
       "MasVarArea      26.125605   -7.132963   11.386216    36.006737   33.985041   \n",
       "log_value       37.202307    0.483241   22.198505    61.213398   59.698105   \n",
       "\n",
       "                 2ndFlrSF  LowQualFinSF   GrLivArea  BsmtFullBath  \\\n",
       "BsmtFinSF1     -13.707899     -6.450260   20.817113     64.921175   \n",
       "BsmtFinSF2      -9.926032      1.480700   -0.963989     15.867806   \n",
       "BsmtUnfSF        0.446909      2.816669   24.025727    -42.290048   \n",
       "TotalBsmtSF    -17.451195     -3.324539   45.486820     30.735055   \n",
       "1stFlrSF       -20.264618     -1.424067   56.602397     24.467110   \n",
       "2ndFlrSF       100.000000      6.335295   68.750106    -16.949395   \n",
       "LowQualFinSF     6.335295    100.000000   13.468281     -4.714342   \n",
       "GrLivArea       68.750106     13.468281  100.000000      3.483605   \n",
       "BsmtFullBath   -16.949395     -4.714342    3.483605    100.000000   \n",
       "BsmtHalfBath    -2.385478     -0.584150   -1.891848    -14.787096   \n",
       "FullBath        42.137798     -0.070951   63.001165     -6.451205   \n",
       "HalfBath        60.970730     -2.708005   41.577164     -3.090496   \n",
       "BedroomAbvGr    50.290061     10.560657   52.126951    -15.067281   \n",
       "KitchenAbvGr     5.930575      0.752174   10.006316     -4.150255   \n",
       "TotRmsAbvGrd    61.642264     13.118478   82.548937     -5.327524   \n",
       "Fireplaces      19.456089     -2.127214   46.167913     13.792771   \n",
       "GarageYrBlt     -6.931503      2.916702  -22.197654    -11.991247   \n",
       "GarageCars      18.392558     -9.447952   46.724742     13.188122   \n",
       "GarageArea      13.834696     -6.760141   46.899748     17.918948   \n",
       "WoodDeckSF       9.216542     -2.544365   24.743282     17.531519   \n",
       "OpenPorchSF     20.802606      1.825104   33.022396      6.734146   \n",
       "EnclosedPorch    6.198869      6.108124    0.911321     -4.991065   \n",
       "3SsnPorch       -2.435765     -0.429561    2.064319     -0.010609   \n",
       "ScreenPorch      4.060645      2.679941   10.151040      2.314773   \n",
       "PoolArea         8.148688      6.215737   17.020534      6.761556   \n",
       "MiscVal          1.619687     -0.379287   -0.241564     -2.304702   \n",
       "MoSold           3.516443     -2.217396    5.023968     -2.536089   \n",
       "YrSold           2.869991      2.892088    3.652582     -6.704914   \n",
       "SalePrice       31.933380     -2.560613   70.862448     22.712223   \n",
       "MasVarArea      17.380000     -6.862798   38.805205      8.301005   \n",
       "log_value       31.929998     -3.796280   70.092665     23.622411   \n",
       "\n",
       "               BsmtHalfBath  ...  EnclosedPorch   3SsnPorch  ScreenPorch  \\\n",
       "BsmtFinSF1         6.741848  ...     -10.230331    2.645051     6.202062   \n",
       "BsmtFinSF2         7.094813  ...       3.654334   -2.999340     8.887125   \n",
       "BsmtUnfSF         -9.580429  ...      -0.253785    2.076401    -1.257927   \n",
       "TotalBsmtSF       -0.031458  ...      -9.547774    3.738373     8.448899   \n",
       "1stFlrSF           0.195565  ...      -6.529170    5.610437     8.875807   \n",
       "2ndFlrSF          -2.385478  ...       6.198869   -2.435765     4.060645   \n",
       "LowQualFinSF      -0.584150  ...       6.108124   -0.429561     2.679941   \n",
       "GrLivArea         -1.891848  ...       0.911321    2.064319    10.151040   \n",
       "BsmtFullBath     -14.787096  ...      -4.991065   -0.010609     2.314773   \n",
       "BsmtHalfBath     100.000000  ...      -0.855533    3.511363     3.212141   \n",
       "FullBath          -5.453581  ...     -11.509296    3.535302    -0.810609   \n",
       "HalfBath          -1.233990  ...      -9.531653   -0.497249     7.242585   \n",
       "BedroomAbvGr       4.651885  ...       4.157043   -2.447780     4.429969   \n",
       "KitchenAbvGr      -3.794435  ...       3.731239   -2.460036    -5.161337   \n",
       "TotRmsAbvGrd      -2.383634  ...       0.415130   -0.668324     5.938260   \n",
       "Fireplaces         2.897559  ...      -2.482187    1.125724    18.453027   \n",
       "GarageYrBlt        7.513503  ...      28.588228   -2.353433     7.525562   \n",
       "GarageCars        -2.089106  ...     -15.143416    3.576529     5.049379   \n",
       "GarageArea        -2.453558  ...     -12.177672    3.508670     5.141176   \n",
       "WoodDeckSF         4.016122  ...     -12.598889   -3.277063    -7.418135   \n",
       "OpenPorchSF       -2.532376  ...      -9.307932   -0.584250     7.430394   \n",
       "EnclosedPorch     -0.855533  ...     100.000000   -3.730528    -8.286424   \n",
       "3SsnPorch          3.511363  ...      -3.730528  100.000000    -3.143585   \n",
       "ScreenPorch        3.212141  ...      -8.286424   -3.143585   100.000000   \n",
       "PoolArea           2.002463  ...       5.420256   -0.799155     5.130739   \n",
       "MiscVal           -0.736652  ...       1.836060    0.035397     3.194576   \n",
       "MoSold             3.287271  ...      -2.888727    2.947380     2.321699   \n",
       "YrSold             4.652388  ...       0.991594   -1.864493    -1.069411   \n",
       "SalePrice         -1.684415  ...     -12.857796    4.458367    11.144657   \n",
       "MasVarArea         2.740266  ...     -10.990680    1.914378     6.224771   \n",
       "log_value         -0.514909  ...     -14.905028    5.490023    12.120760   \n",
       "\n",
       "                 PoolArea     MiscVal      MoSold      YrSold   SalePrice  \\\n",
       "BsmtFinSF1      14.049129    0.357147   -1.572695   -1.435892   38.641981   \n",
       "BsmtFinSF2       4.170905    0.493978   -1.521074   -3.170564   -1.137812   \n",
       "BsmtUnfSF       -3.509224   -2.383665    3.488844    4.125819   21.447911   \n",
       "TotalBsmtSF     12.605313   -1.847892    1.319618    1.496865   61.358055   \n",
       "1stFlrSF        13.152498   -2.109572    3.137156    1.360377   60.585218   \n",
       "2ndFlrSF         8.148688    1.619687    3.516443    2.869991   31.933380   \n",
       "LowQualFinSF     6.215737   -0.379287   -2.217396    2.892088   -2.560613   \n",
       "GrLivArea       17.020534   -0.241564    5.023968    3.652582   70.862448   \n",
       "BsmtFullBath     6.761556   -2.304702   -2.536089   -6.704914   22.712223   \n",
       "BsmtHalfBath     2.002463   -0.736652    3.287271    4.652388   -1.684415   \n",
       "FullBath         4.960383   -1.428984    5.587213    1.966884   56.066376   \n",
       "HalfBath         2.238150    0.129014   -0.904989    1.026867   28.410768   \n",
       "BedroomAbvGr     7.070258    0.776697    4.654386    3.601389   16.821315   \n",
       "KitchenAbvGr    -1.452512    6.234072    2.658891   -3.168721  -13.590737   \n",
       "TotRmsAbvGrd     8.375735    2.476288    3.690708    3.451635   53.372316   \n",
       "Fireplaces       9.507352    0.140861    4.635710    2.409556   46.692884   \n",
       "GarageYrBlt      1.449867    3.185342   -0.517342   -0.098730  -47.017745   \n",
       "GarageCars       2.093353   -4.308013    4.052173    3.911690   64.040920   \n",
       "GarageArea       6.104727   -2.739991    2.797380    2.737794   62.343144   \n",
       "WoodDeckSF       7.337821   -0.955123    2.101104   -2.227045   32.441344   \n",
       "OpenPorchSF      6.076211   -1.858374    7.125488    5.761936   31.585623   \n",
       "EnclosedPorch    5.420256    1.836060   -2.888727    0.991594  -12.857796   \n",
       "3SsnPorch       -0.799155    0.035397    2.947380   -1.864493    4.458367   \n",
       "ScreenPorch      5.130739    3.194576    2.321699   -1.069411   11.144657   \n",
       "PoolArea       100.000000    2.966865   -3.373664    5.968893    9.240355   \n",
       "MiscVal          2.966865  100.000000   -0.649455   -0.490626   -2.118958   \n",
       "MoSold          -3.373664   -0.649455  100.000000   14.572141    4.643225   \n",
       "YrSold           5.968893   -0.490626   14.572141  100.000000    2.892259   \n",
       "SalePrice        9.240355   -2.118958    4.643225    2.892259  100.000000   \n",
       "MasVarArea       1.192839   -2.951225   -0.672320    0.831662   47.261450   \n",
       "log_value        6.979781   -2.002082    5.732948    3.726297   94.837373   \n",
       "\n",
       "               MasVarArea   log_value  \n",
       "BsmtFinSF1      26.125605   37.202307  \n",
       "BsmtFinSF2      -7.132963    0.483241  \n",
       "BsmtUnfSF       11.386216   22.198505  \n",
       "TotalBsmtSF     36.006737   61.213398  \n",
       "1stFlrSF        33.985041   59.698105  \n",
       "2ndFlrSF        17.380000   31.929998  \n",
       "LowQualFinSF    -6.862798   -3.796280  \n",
       "GrLivArea       38.805205   70.092665  \n",
       "BsmtFullBath     8.301005   23.622411  \n",
       "BsmtHalfBath     2.740266   -0.514909  \n",
       "FullBath        27.299886   59.477054  \n",
       "HalfBath        19.910752   31.398225  \n",
       "BedroomAbvGr    10.277452   20.904368  \n",
       "KitchenAbvGr    -3.845011  -14.754809  \n",
       "TotRmsAbvGrd    27.956789   53.442220  \n",
       "Fireplaces      24.701528   48.944943  \n",
       "GarageYrBlt    -24.617754  -50.044891  \n",
       "GarageCars      36.194457   68.062481  \n",
       "GarageArea      37.088415   65.088756  \n",
       "WoodDeckSF      15.999053   33.413507  \n",
       "OpenPorchSF     12.252833   32.105297  \n",
       "EnclosedPorch  -10.990680  -14.905028  \n",
       "3SsnPorch        1.914378    5.490023  \n",
       "ScreenPorch      6.224771   12.120760  \n",
       "PoolArea         1.192839    6.979781  \n",
       "MiscVal         -2.951225   -2.002082  \n",
       "MoSold          -0.672320    5.732948  \n",
       "YrSold           0.831662    3.726297  \n",
       "SalePrice       47.261450   94.837373  \n",
       "MasVarArea     100.000000   42.677513  \n",
       "log_value       42.677513  100.000000  \n",
       "\n",
       "[31 rows x 31 columns]"
      ]
     },
     "execution_count": 67,
     "metadata": {},
     "output_type": "execute_result"
    }
   ],
   "source": [
    "cor*100"
   ]
  },
  {
   "cell_type": "code",
   "execution_count": null,
   "id": "0592e29b",
   "metadata": {},
   "outputs": [],
   "source": []
  },
  {
   "cell_type": "markdown",
   "id": "6f6bd42d",
   "metadata": {},
   "source": [
    "# Data Preparation\n"
   ]
  },
  {
   "cell_type": "code",
   "execution_count": 68,
   "id": "324e9160",
   "metadata": {},
   "outputs": [
    {
     "data": {
      "text/plain": [
       "Index(['Utilities', 'Condition2', 'BldgType', 'RoofStyle', 'RoofMatl',\n",
       "       'ExterQual', 'ExterCond', 'Foundation', 'BsmtQual', 'BsmtCond',\n",
       "       'BsmtExposure', 'BsmtFinType1', 'BsmtFinSF1', 'BsmtFinType2',\n",
       "       'BsmtFinSF2', 'BsmtUnfSF', 'TotalBsmtSF', 'Heating', 'HeatingQC',\n",
       "       'CentralAir', 'Electrical', '1stFlrSF', '2ndFlrSF', 'LowQualFinSF',\n",
       "       'GrLivArea', 'BsmtFullBath', 'BsmtHalfBath', 'FullBath', 'HalfBath',\n",
       "       'BedroomAbvGr', 'KitchenAbvGr', 'KitchenQual', 'TotRmsAbvGrd',\n",
       "       'Functional', 'Fireplaces', 'FireplaceQu', 'GarageType', 'GarageYrBlt',\n",
       "       'GarageFinish', 'GarageCars', 'GarageArea', 'GarageQual', 'GarageCond',\n",
       "       'PavedDrive', 'WoodDeckSF', 'OpenPorchSF', 'EnclosedPorch', '3SsnPorch',\n",
       "       'ScreenPorch', 'PoolArea', 'MiscVal', 'MoSold', 'YrSold', 'SaleType',\n",
       "       'SaleCondition', 'SalePrice', 'MasVarArea', 'log_value'],\n",
       "      dtype='object')"
      ]
     },
     "execution_count": 68,
     "metadata": {},
     "output_type": "execute_result"
    }
   ],
   "source": [
    "housing.columns"
   ]
  },
  {
   "cell_type": "code",
   "execution_count": 69,
   "id": "5f143775",
   "metadata": {},
   "outputs": [],
   "source": [
    "#Split x and Y variables\n",
    "\n",
    "X = housing.loc[:, [ 'ExterQual', 'Foundation', 'BsmtQual', 'BsmtExposure',\n",
    "       'BsmtFinType1', 'BsmtFinSF1', 'BsmtUnfSF', 'TotalBsmtSF', 'HeatingQC',\n",
    "       '1stFlrSF', '2ndFlrSF', 'GrLivArea', 'BsmtFullBath', 'BsmtHalfBath',\n",
    "       'FullBath', 'HalfBath', 'BedroomAbvGr', 'KitchenQual', 'TotRmsAbvGrd',\n",
    "       'Fireplaces', 'FireplaceQu', 'GarageType', 'GarageYrBlt',\n",
    "       'GarageFinish', 'GarageCars', 'GarageArea', 'WoodDeckSF', 'OpenPorchSF',\n",
    "       'YrSold']]\n",
    "\n",
    "y = housing['MasVarArea']"
   ]
  },
  {
   "cell_type": "code",
   "execution_count": 70,
   "id": "56b537eb",
   "metadata": {},
   "outputs": [
    {
     "data": {
      "text/html": [
       "<div>\n",
       "<style scoped>\n",
       "    .dataframe tbody tr th:only-of-type {\n",
       "        vertical-align: middle;\n",
       "    }\n",
       "\n",
       "    .dataframe tbody tr th {\n",
       "        vertical-align: top;\n",
       "    }\n",
       "\n",
       "    .dataframe thead th {\n",
       "        text-align: right;\n",
       "    }\n",
       "</style>\n",
       "<table border=\"1\" class=\"dataframe\">\n",
       "  <thead>\n",
       "    <tr style=\"text-align: right;\">\n",
       "      <th></th>\n",
       "      <th>ExterQual</th>\n",
       "      <th>Foundation</th>\n",
       "      <th>BsmtQual</th>\n",
       "      <th>BsmtExposure</th>\n",
       "      <th>BsmtFinType1</th>\n",
       "      <th>HeatingQC</th>\n",
       "      <th>KitchenQual</th>\n",
       "      <th>FireplaceQu</th>\n",
       "      <th>GarageType</th>\n",
       "      <th>GarageFinish</th>\n",
       "    </tr>\n",
       "  </thead>\n",
       "  <tbody>\n",
       "    <tr>\n",
       "      <th>0</th>\n",
       "      <td>Gd</td>\n",
       "      <td>PConc</td>\n",
       "      <td>Gd</td>\n",
       "      <td>No</td>\n",
       "      <td>GLQ</td>\n",
       "      <td>Ex</td>\n",
       "      <td>Gd</td>\n",
       "      <td>NA</td>\n",
       "      <td>Attchd</td>\n",
       "      <td>RFn</td>\n",
       "    </tr>\n",
       "    <tr>\n",
       "      <th>1</th>\n",
       "      <td>TA</td>\n",
       "      <td>CBlock</td>\n",
       "      <td>Gd</td>\n",
       "      <td>Gd</td>\n",
       "      <td>ALQ</td>\n",
       "      <td>Ex</td>\n",
       "      <td>TA</td>\n",
       "      <td>TA</td>\n",
       "      <td>Attchd</td>\n",
       "      <td>RFn</td>\n",
       "    </tr>\n",
       "    <tr>\n",
       "      <th>2</th>\n",
       "      <td>Gd</td>\n",
       "      <td>PConc</td>\n",
       "      <td>Gd</td>\n",
       "      <td>Mn</td>\n",
       "      <td>GLQ</td>\n",
       "      <td>Ex</td>\n",
       "      <td>Gd</td>\n",
       "      <td>TA</td>\n",
       "      <td>Attchd</td>\n",
       "      <td>RFn</td>\n",
       "    </tr>\n",
       "    <tr>\n",
       "      <th>3</th>\n",
       "      <td>TA</td>\n",
       "      <td>BrkTil</td>\n",
       "      <td>TA</td>\n",
       "      <td>No</td>\n",
       "      <td>ALQ</td>\n",
       "      <td>Gd</td>\n",
       "      <td>Gd</td>\n",
       "      <td>Gd</td>\n",
       "      <td>Detchd</td>\n",
       "      <td>Unf</td>\n",
       "    </tr>\n",
       "    <tr>\n",
       "      <th>4</th>\n",
       "      <td>Gd</td>\n",
       "      <td>PConc</td>\n",
       "      <td>Gd</td>\n",
       "      <td>Av</td>\n",
       "      <td>GLQ</td>\n",
       "      <td>Ex</td>\n",
       "      <td>Gd</td>\n",
       "      <td>TA</td>\n",
       "      <td>Attchd</td>\n",
       "      <td>RFn</td>\n",
       "    </tr>\n",
       "  </tbody>\n",
       "</table>\n",
       "</div>"
      ],
      "text/plain": [
       "  ExterQual Foundation BsmtQual BsmtExposure BsmtFinType1 HeatingQC  \\\n",
       "0        Gd      PConc       Gd           No          GLQ        Ex   \n",
       "1        TA     CBlock       Gd           Gd          ALQ        Ex   \n",
       "2        Gd      PConc       Gd           Mn          GLQ        Ex   \n",
       "3        TA     BrkTil       TA           No          ALQ        Gd   \n",
       "4        Gd      PConc       Gd           Av          GLQ        Ex   \n",
       "\n",
       "  KitchenQual FireplaceQu GarageType GarageFinish  \n",
       "0          Gd          NA     Attchd          RFn  \n",
       "1          TA          TA     Attchd          RFn  \n",
       "2          Gd          TA     Attchd          RFn  \n",
       "3          Gd          Gd     Detchd          Unf  \n",
       "4          Gd          TA     Attchd          RFn  "
      ]
     },
     "execution_count": 70,
     "metadata": {},
     "output_type": "execute_result"
    }
   ],
   "source": [
    "#creating dummy variables\n",
    "housing_categorical = X.select_dtypes(include=['object'])\n",
    "housing_categorical.head()"
   ]
  },
  {
   "cell_type": "code",
   "execution_count": 71,
   "id": "c946cb1d",
   "metadata": {},
   "outputs": [
    {
     "data": {
      "text/html": [
       "<div>\n",
       "<style scoped>\n",
       "    .dataframe tbody tr th:only-of-type {\n",
       "        vertical-align: middle;\n",
       "    }\n",
       "\n",
       "    .dataframe tbody tr th {\n",
       "        vertical-align: top;\n",
       "    }\n",
       "\n",
       "    .dataframe thead th {\n",
       "        text-align: right;\n",
       "    }\n",
       "</style>\n",
       "<table border=\"1\" class=\"dataframe\">\n",
       "  <thead>\n",
       "    <tr style=\"text-align: right;\">\n",
       "      <th></th>\n",
       "      <th>ExterQual_Fa</th>\n",
       "      <th>ExterQual_Gd</th>\n",
       "      <th>ExterQual_TA</th>\n",
       "      <th>Foundation_CBlock</th>\n",
       "      <th>Foundation_PConc</th>\n",
       "      <th>Foundation_Slab</th>\n",
       "      <th>Foundation_Stone</th>\n",
       "      <th>Foundation_Wood</th>\n",
       "      <th>BsmtQual_Fa</th>\n",
       "      <th>BsmtQual_Gd</th>\n",
       "      <th>...</th>\n",
       "      <th>FireplaceQu_TA</th>\n",
       "      <th>GarageType_Attchd</th>\n",
       "      <th>GarageType_Basment</th>\n",
       "      <th>GarageType_BuiltIn</th>\n",
       "      <th>GarageType_CarPort</th>\n",
       "      <th>GarageType_Detchd</th>\n",
       "      <th>GarageType_NA</th>\n",
       "      <th>GarageFinish_NA</th>\n",
       "      <th>GarageFinish_RFn</th>\n",
       "      <th>GarageFinish_Unf</th>\n",
       "    </tr>\n",
       "  </thead>\n",
       "  <tbody>\n",
       "    <tr>\n",
       "      <th>0</th>\n",
       "      <td>0</td>\n",
       "      <td>1</td>\n",
       "      <td>0</td>\n",
       "      <td>0</td>\n",
       "      <td>1</td>\n",
       "      <td>0</td>\n",
       "      <td>0</td>\n",
       "      <td>0</td>\n",
       "      <td>0</td>\n",
       "      <td>1</td>\n",
       "      <td>...</td>\n",
       "      <td>0</td>\n",
       "      <td>1</td>\n",
       "      <td>0</td>\n",
       "      <td>0</td>\n",
       "      <td>0</td>\n",
       "      <td>0</td>\n",
       "      <td>0</td>\n",
       "      <td>0</td>\n",
       "      <td>1</td>\n",
       "      <td>0</td>\n",
       "    </tr>\n",
       "    <tr>\n",
       "      <th>1</th>\n",
       "      <td>0</td>\n",
       "      <td>0</td>\n",
       "      <td>1</td>\n",
       "      <td>1</td>\n",
       "      <td>0</td>\n",
       "      <td>0</td>\n",
       "      <td>0</td>\n",
       "      <td>0</td>\n",
       "      <td>0</td>\n",
       "      <td>1</td>\n",
       "      <td>...</td>\n",
       "      <td>1</td>\n",
       "      <td>1</td>\n",
       "      <td>0</td>\n",
       "      <td>0</td>\n",
       "      <td>0</td>\n",
       "      <td>0</td>\n",
       "      <td>0</td>\n",
       "      <td>0</td>\n",
       "      <td>1</td>\n",
       "      <td>0</td>\n",
       "    </tr>\n",
       "    <tr>\n",
       "      <th>2</th>\n",
       "      <td>0</td>\n",
       "      <td>1</td>\n",
       "      <td>0</td>\n",
       "      <td>0</td>\n",
       "      <td>1</td>\n",
       "      <td>0</td>\n",
       "      <td>0</td>\n",
       "      <td>0</td>\n",
       "      <td>0</td>\n",
       "      <td>1</td>\n",
       "      <td>...</td>\n",
       "      <td>1</td>\n",
       "      <td>1</td>\n",
       "      <td>0</td>\n",
       "      <td>0</td>\n",
       "      <td>0</td>\n",
       "      <td>0</td>\n",
       "      <td>0</td>\n",
       "      <td>0</td>\n",
       "      <td>1</td>\n",
       "      <td>0</td>\n",
       "    </tr>\n",
       "    <tr>\n",
       "      <th>3</th>\n",
       "      <td>0</td>\n",
       "      <td>0</td>\n",
       "      <td>1</td>\n",
       "      <td>0</td>\n",
       "      <td>0</td>\n",
       "      <td>0</td>\n",
       "      <td>0</td>\n",
       "      <td>0</td>\n",
       "      <td>0</td>\n",
       "      <td>0</td>\n",
       "      <td>...</td>\n",
       "      <td>0</td>\n",
       "      <td>0</td>\n",
       "      <td>0</td>\n",
       "      <td>0</td>\n",
       "      <td>0</td>\n",
       "      <td>1</td>\n",
       "      <td>0</td>\n",
       "      <td>0</td>\n",
       "      <td>0</td>\n",
       "      <td>1</td>\n",
       "    </tr>\n",
       "    <tr>\n",
       "      <th>4</th>\n",
       "      <td>0</td>\n",
       "      <td>1</td>\n",
       "      <td>0</td>\n",
       "      <td>0</td>\n",
       "      <td>1</td>\n",
       "      <td>0</td>\n",
       "      <td>0</td>\n",
       "      <td>0</td>\n",
       "      <td>0</td>\n",
       "      <td>1</td>\n",
       "      <td>...</td>\n",
       "      <td>1</td>\n",
       "      <td>1</td>\n",
       "      <td>0</td>\n",
       "      <td>0</td>\n",
       "      <td>0</td>\n",
       "      <td>0</td>\n",
       "      <td>0</td>\n",
       "      <td>0</td>\n",
       "      <td>1</td>\n",
       "      <td>0</td>\n",
       "    </tr>\n",
       "  </tbody>\n",
       "</table>\n",
       "<p>5 rows × 42 columns</p>\n",
       "</div>"
      ],
      "text/plain": [
       "   ExterQual_Fa  ExterQual_Gd  ExterQual_TA  Foundation_CBlock  \\\n",
       "0             0             1             0                  0   \n",
       "1             0             0             1                  1   \n",
       "2             0             1             0                  0   \n",
       "3             0             0             1                  0   \n",
       "4             0             1             0                  0   \n",
       "\n",
       "   Foundation_PConc  Foundation_Slab  Foundation_Stone  Foundation_Wood  \\\n",
       "0                 1                0                 0                0   \n",
       "1                 0                0                 0                0   \n",
       "2                 1                0                 0                0   \n",
       "3                 0                0                 0                0   \n",
       "4                 1                0                 0                0   \n",
       "\n",
       "   BsmtQual_Fa  BsmtQual_Gd  ...  FireplaceQu_TA  GarageType_Attchd  \\\n",
       "0            0            1  ...               0                  1   \n",
       "1            0            1  ...               1                  1   \n",
       "2            0            1  ...               1                  1   \n",
       "3            0            0  ...               0                  0   \n",
       "4            0            1  ...               1                  1   \n",
       "\n",
       "   GarageType_Basment  GarageType_BuiltIn  GarageType_CarPort  \\\n",
       "0                   0                   0                   0   \n",
       "1                   0                   0                   0   \n",
       "2                   0                   0                   0   \n",
       "3                   0                   0                   0   \n",
       "4                   0                   0                   0   \n",
       "\n",
       "   GarageType_Detchd  GarageType_NA  GarageFinish_NA  GarageFinish_RFn  \\\n",
       "0                  0              0                0                 1   \n",
       "1                  0              0                0                 1   \n",
       "2                  0              0                0                 1   \n",
       "3                  1              0                0                 0   \n",
       "4                  0              0                0                 1   \n",
       "\n",
       "   GarageFinish_Unf  \n",
       "0                 0  \n",
       "1                 0  \n",
       "2                 0  \n",
       "3                 1  \n",
       "4                 0  \n",
       "\n",
       "[5 rows x 42 columns]"
      ]
     },
     "execution_count": 71,
     "metadata": {},
     "output_type": "execute_result"
    }
   ],
   "source": [
    "housing_dummies = pd.get_dummies(housing_categorical, drop_first=True)\n",
    "housing_dummies.head()"
   ]
  },
  {
   "cell_type": "code",
   "execution_count": 72,
   "id": "f1296e03",
   "metadata": {},
   "outputs": [],
   "source": [
    "#Drop dummy variables\n",
    "X = X.drop(list(housing_categorical.columns), axis=1)\n"
   ]
  },
  {
   "cell_type": "code",
   "execution_count": 73,
   "id": "b96c5bfc",
   "metadata": {},
   "outputs": [],
   "source": [
    "X = pd.concat([X, housing_dummies], axis=1)\n"
   ]
  },
  {
   "cell_type": "code",
   "execution_count": 74,
   "id": "758b085f",
   "metadata": {},
   "outputs": [
    {
     "name": "stdout",
     "output_type": "stream",
     "text": [
      "     Utilities Condition2 BldgType RoofStyle RoofMatl ExterQual ExterCond  \\\n",
      "0       AllPub       Norm     1Fam     Gable  CompShg        Gd        TA   \n",
      "1       AllPub       Norm     1Fam     Gable  CompShg        TA        TA   \n",
      "2       AllPub       Norm     1Fam     Gable  CompShg        Gd        TA   \n",
      "3       AllPub       Norm     1Fam     Gable  CompShg        TA        TA   \n",
      "4       AllPub       Norm     1Fam     Gable  CompShg        Gd        TA   \n",
      "...        ...        ...      ...       ...      ...       ...       ...   \n",
      "1455    AllPub       Norm     1Fam     Gable  CompShg        TA        TA   \n",
      "1456    AllPub       Norm     1Fam     Gable  CompShg        TA        TA   \n",
      "1457    AllPub       Norm     1Fam     Gable  CompShg        Ex        Gd   \n",
      "1458    AllPub       Norm     1Fam       Hip  CompShg        TA        TA   \n",
      "1459    AllPub       Norm     1Fam     Gable  CompShg        Gd        TA   \n",
      "\n",
      "     Foundation BsmtQual BsmtCond  ... ScreenPorch PoolArea  MiscVal MoSold  \\\n",
      "0         PConc       Gd       TA  ...           0        0        0      2   \n",
      "1        CBlock       Gd       TA  ...           0        0        0      5   \n",
      "2         PConc       Gd       TA  ...           0        0        0      9   \n",
      "3        BrkTil       TA       Gd  ...           0        0        0      2   \n",
      "4         PConc       Gd       TA  ...           0        0        0     12   \n",
      "...         ...      ...      ...  ...         ...      ...      ...    ...   \n",
      "1455      PConc       Gd       TA  ...           0        0        0      8   \n",
      "1456     CBlock       Gd       TA  ...           0        0        0      2   \n",
      "1457      Stone       TA       Gd  ...           0        0     2500      5   \n",
      "1458     CBlock       TA       TA  ...           0        0        0      4   \n",
      "1459     CBlock       TA       TA  ...           0        0        0      6   \n",
      "\n",
      "      YrSold  SaleType  SaleCondition SalePrice MasVarArea  log_value  \n",
      "0         14        WD         Normal    208500      196.0  12.247694  \n",
      "1         15        WD         Normal    181500        0.0  12.109011  \n",
      "2         14        WD         Normal    223500      162.0  12.317167  \n",
      "3         16        WD        Abnorml    140000        0.0  11.849398  \n",
      "4         14        WD         Normal    250000      350.0  12.429216  \n",
      "...      ...       ...            ...       ...        ...        ...  \n",
      "1455      15        WD         Normal    175000        0.0  12.072541  \n",
      "1456      12        WD         Normal    210000      119.0  12.254863  \n",
      "1457      12        WD         Normal    266500        0.0  12.493130  \n",
      "1458      12        WD         Normal    142125        0.0  11.864462  \n",
      "1459      14        WD         Normal    147500        0.0  11.901583  \n",
      "\n",
      "[1460 rows x 58 columns]\n"
     ]
    }
   ],
   "source": [
    "print(housing)"
   ]
  },
  {
   "cell_type": "code",
   "execution_count": null,
   "id": "0c4cb294",
   "metadata": {},
   "outputs": [],
   "source": []
  },
  {
   "cell_type": "code",
   "execution_count": null,
   "id": "de1d2145",
   "metadata": {},
   "outputs": [],
   "source": []
  },
  {
   "cell_type": "code",
   "execution_count": 75,
   "id": "ac3ea931",
   "metadata": {},
   "outputs": [
    {
     "data": {
      "text/plain": [
       "Index(['BsmtFinSF1', 'BsmtUnfSF', 'TotalBsmtSF', '1stFlrSF', '2ndFlrSF',\n",
       "       'GrLivArea', 'BsmtFullBath', 'BsmtHalfBath', 'FullBath', 'HalfBath',\n",
       "       'BedroomAbvGr', 'TotRmsAbvGrd', 'Fireplaces', 'GarageYrBlt',\n",
       "       'GarageCars', 'GarageArea', 'WoodDeckSF', 'OpenPorchSF', 'YrSold',\n",
       "       'ExterQual_Fa', 'ExterQual_Gd', 'ExterQual_TA', 'Foundation_CBlock',\n",
       "       'Foundation_PConc', 'Foundation_Slab', 'Foundation_Stone',\n",
       "       'Foundation_Wood', 'BsmtQual_Fa', 'BsmtQual_Gd', 'BsmtQual_NA',\n",
       "       'BsmtQual_TA', 'BsmtExposure_Gd', 'BsmtExposure_Mn', 'BsmtExposure_NA',\n",
       "       'BsmtExposure_No', 'BsmtFinType1_BLQ', 'BsmtFinType1_GLQ',\n",
       "       'BsmtFinType1_LwQ', 'BsmtFinType1_Rec', 'BsmtFinType1_Unf',\n",
       "       'HeatingQC_Fa', 'HeatingQC_Gd', 'HeatingQC_Po', 'HeatingQC_TA',\n",
       "       'KitchenQual_Fa', 'KitchenQual_Gd', 'KitchenQual_TA', 'FireplaceQu_Fa',\n",
       "       'FireplaceQu_Gd', 'FireplaceQu_NA', 'FireplaceQu_Po', 'FireplaceQu_TA',\n",
       "       'GarageType_Attchd', 'GarageType_Basment', 'GarageType_BuiltIn',\n",
       "       'GarageType_CarPort', 'GarageType_Detchd', 'GarageType_NA',\n",
       "       'GarageFinish_NA', 'GarageFinish_RFn', 'GarageFinish_Unf'],\n",
       "      dtype='object')"
      ]
     },
     "execution_count": 75,
     "metadata": {},
     "output_type": "execute_result"
    }
   ],
   "source": [
    "from sklearn.preprocessing import scale\n",
    "\n",
    "# storing column names in cols, since column names are lost after \n",
    "# scaling (the dataframe is converted to a numpy array)\n",
    "cols = X.columns\n",
    "X = pd.DataFrame(scale(X))\n",
    "X.columns = cols\n",
    "X.columns"
   ]
  },
  {
   "cell_type": "code",
   "execution_count": 76,
   "id": "c368da80",
   "metadata": {},
   "outputs": [
    {
     "ename": "NameError",
     "evalue": "name 'Y' is not defined",
     "output_type": "error",
     "traceback": [
      "\u001b[1;31m---------------------------------------------------------------------------\u001b[0m",
      "\u001b[1;31mNameError\u001b[0m                                 Traceback (most recent call last)",
      "\u001b[1;32m~\\AppData\\Local\\Temp/ipykernel_6500/260655577.py\u001b[0m in \u001b[0;36m<module>\u001b[1;34m\u001b[0m\n\u001b[0;32m      1\u001b[0m \u001b[1;31m# split into train and test\u001b[0m\u001b[1;33m\u001b[0m\u001b[1;33m\u001b[0m\u001b[0m\n\u001b[0;32m      2\u001b[0m \u001b[1;32mfrom\u001b[0m \u001b[0msklearn\u001b[0m\u001b[1;33m.\u001b[0m\u001b[0mmodel_selection\u001b[0m \u001b[1;32mimport\u001b[0m \u001b[0mtrain_test_split\u001b[0m\u001b[1;33m\u001b[0m\u001b[1;33m\u001b[0m\u001b[0m\n\u001b[1;32m----> 3\u001b[1;33m X_train, X_test, y_train, y_test = train_test_split(X, Y, \n\u001b[0m\u001b[0;32m      4\u001b[0m                                                     \u001b[0mtrain_size\u001b[0m\u001b[1;33m=\u001b[0m\u001b[1;36m0.3\u001b[0m\u001b[1;33m,\u001b[0m\u001b[1;33m\u001b[0m\u001b[1;33m\u001b[0m\u001b[0m\n\u001b[0;32m      5\u001b[0m                                                     test_size = 0.1, random_state=100)\n",
      "\u001b[1;31mNameError\u001b[0m: name 'Y' is not defined"
     ]
    }
   ],
   "source": [
    "# split into train and test\n",
    "from sklearn.model_selection import train_test_split\n",
    "X_train, X_test, y_train, y_test = train_test_split(X, Y, \n",
    "                                                    train_size=0.3,\n",
    "                                                    test_size = 0.1, random_state=100)"
   ]
  },
  {
   "cell_type": "markdown",
   "id": "d723f667",
   "metadata": {},
   "source": [
    "# Ridge and Lasso Regression"
   ]
  },
  {
   "cell_type": "code",
   "execution_count": null,
   "id": "6a57ee70",
   "metadata": {},
   "outputs": [],
   "source": [
    "# list of alphas to tune\n",
    "params = {'alpha': [0.0001, 0.001, 0.01, 0.05, 0.1, \n",
    " 0.2, 0.3, 0.4, 0.5, 0.6, 0.7, 0.8, 0.9, 1.0, 2.0, 3.0, \n",
    " 4.0, 5.0, 6.0, 7.0, 8.0, 9.0, 10.0, 20, 50, 100, 500, 1000 ]}\n",
    "\n",
    "\n",
    "ridge = Ridge()\n",
    "\n",
    "# cross validation\n",
    "folds = 5\n",
    "model_cv = GridSearchCV(estimator = ridge, \n",
    "                        param_grid = params, \n",
    "                        scoring= 'neg_mean_absolute_error', \n",
    "                        cv = folds, \n",
    "                        return_train_score=True,\n",
    "                        verbose = 1)            \n",
    "model_cv.fit(X_train, y_train) \n",
    "\n",
    "housing[housing==np.inf]=np.nan\n",
    "housing.fillna(housing.mean(), inplace=True)\n"
   ]
  },
  {
   "cell_type": "code",
   "execution_count": null,
   "id": "54360d3e",
   "metadata": {},
   "outputs": [],
   "source": [
    "cv_results = pd.DataFrame(model_cv.cv_results_)\n",
    "cv_results.head()"
   ]
  },
  {
   "cell_type": "code",
   "execution_count": null,
   "id": "df91f194",
   "metadata": {},
   "outputs": [],
   "source": [
    "cv_results\n"
   ]
  },
  {
   "cell_type": "code",
   "execution_count": null,
   "id": "bf8e32dd",
   "metadata": {},
   "outputs": [],
   "source": [
    "# plotting mean test and train scoes with alpha \n",
    "cv_results['param_alpha'] = cv_results['param_alpha'].astype('int32')\n",
    "\n",
    "# plotting\n",
    "plt.plot(cv_results['param_alpha'], cv_results['mean_train_score'])\n",
    "plt.plot(cv_results['param_alpha'], cv_results['mean_test_score'])\n",
    "plt.xlabel('alpha')\n",
    "plt.ylabel('Negative Mean Absolute Error')\n",
    "plt.title(\"Negative Mean Absolute Error and alpha\")\n",
    "plt.legend(['train score', 'test score'], loc='upper right')\n",
    "plt.show()"
   ]
  },
  {
   "cell_type": "code",
   "execution_count": null,
   "id": "f29bae9e",
   "metadata": {},
   "outputs": [],
   "source": [
    "#Using the best hyper parameter in the ridge Regression\n",
    "alpha = 100\n",
    "ridge = Ridge(alpha=alpha)\n",
    "\n",
    "ridge.fit(X_train, y_train)\n",
    "ridge.coef_"
   ]
  },
  {
   "cell_type": "markdown",
   "id": "f8fd3c70",
   "metadata": {},
   "source": [
    "# Predict Y variables"
   ]
  },
  {
   "cell_type": "code",
   "execution_count": null,
   "id": "4ec42c27",
   "metadata": {},
   "outputs": [],
   "source": [
    "# model coefficients\n",
    "cols = X.columns\n",
    "cols = cols.insert(0, \"constant\")\n",
    "model_parameters = list(ridge.coef_)\n",
    "list(zip(cols, model_parameters))"
   ]
  },
  {
   "cell_type": "code",
   "execution_count": null,
   "id": "2e6cdfab",
   "metadata": {},
   "outputs": [],
   "source": [
    "alpha_double = 200\n",
    "ridge_double = Ridge(alpha=alpha_double)\n",
    "\n",
    "ridge_double.fit(X_train, y_train)\n",
    "ridge_double.coef_"
   ]
  },
  {
   "cell_type": "code",
   "execution_count": null,
   "id": "8084e4f3",
   "metadata": {},
   "outputs": [],
   "source": [
    "y_train_pred_double = ridge_double.predict(X_train)\n",
    "print(metrics.r2_score(y_true=y_train, y_pred=y_train_pred_double))"
   ]
  },
  {
   "cell_type": "code",
   "execution_count": null,
   "id": "aae09cb9",
   "metadata": {},
   "outputs": [],
   "source": [
    "rsquare = metrics.r2_score(y_true=y_train, y_pred=y_train_pred_double)\n",
    "rssbytss = 1-rsquare\n",
    "rssbytss"
   ]
  },
  {
   "cell_type": "code",
   "execution_count": null,
   "id": "b551a437",
   "metadata": {},
   "outputs": [],
   "source": [
    "y_test_pred = ridge_double.predict(X_test)\n",
    "print(metrics.r2_score(y_true=y_test, y_pred=y_test_pred))"
   ]
  },
  {
   "cell_type": "code",
   "execution_count": null,
   "id": "4349576c",
   "metadata": {},
   "outputs": [],
   "source": [
    "# model coefficients\n",
    "cols = X.columns\n",
    "cols = cols.insert(0, \"constant\")\n",
    "model_parameters = list(ridge_double.coef_)\n",
    "ridge_doble_list = list(zip(cols, model_parameters))"
   ]
  },
  {
   "cell_type": "code",
   "execution_count": null,
   "id": "7a1790c2",
   "metadata": {},
   "outputs": [],
   "source": [
    "ridge_doble_list\n"
   ]
  },
  {
   "cell_type": "code",
   "execution_count": null,
   "id": "ef460c36",
   "metadata": {},
   "outputs": [],
   "source": [
    "final_pred_ridge_double =[]\n",
    "for i in range(len(ridge_doble_list)):\n",
    "    if(ridge_doble_list[i][1]!=0):\n",
    "        final_pred_ridge_double.append(ridge_doble_list[i][0])\n",
    "print('Number of predictors selected by double the optimal alpha for ridge are:{0}'.format(len(final_pred_ridge_double)))"
   ]
  },
  {
   "cell_type": "markdown",
   "id": "a7835f13",
   "metadata": {},
   "source": [
    "## LASSO REGRESSION ##"
   ]
  },
  {
   "cell_type": "code",
   "execution_count": null,
   "id": "13910f0e",
   "metadata": {},
   "outputs": [],
   "source": [
    "# list of alphas to tune\n",
    "params = {'alpha': [0.0000001, 0.000001, 0.00001, 0.0001, 0.001, 0.01]}\n",
    "\n",
    "\n",
    "lasso = Lasso()\n",
    "\n",
    "# cross validation\n",
    "model_lasso_cv = GridSearchCV(estimator = lasso, \n",
    "                        param_grid = params, \n",
    "                        scoring= 'neg_mean_absolute_error', \n",
    "                        cv = folds, \n",
    "                        return_train_score=True,\n",
    "                        verbose = 1)            \n",
    "\n",
    "model_lasso_cv.fit(X_train, y_train) "
   ]
  },
  {
   "cell_type": "code",
   "execution_count": null,
   "id": "28dc3b24",
   "metadata": {},
   "outputs": [],
   "source": [
    "cv_results_lasso = pd.DataFrame(model_cv.cv_results_)\n",
    "cv_results_lasso.head()"
   ]
  },
  {
   "cell_type": "code",
   "execution_count": null,
   "id": "255265e9",
   "metadata": {},
   "outputs": [],
   "source": [
    "# plotting mean test and train scoes with alpha \n",
    "cv_results_lasso['param_alpha'] = cv_results_lasso['param_alpha'].astype('float32')\n",
    "\n",
    "# plotting\n",
    "plt.plot(cv_results_lasso['param_alpha'], cv_results_lasso['mean_train_score'])\n",
    "plt.plot(cv_results_lasso['param_alpha'], cv_results_lasso['mean_test_score'])\n",
    "plt.xlabel('alpha')\n",
    "plt.ylabel('Negative Mean Absolute Error')\n",
    "\n",
    "plt.title(\"Negative Mean Absolute Error and alpha\")\n",
    "plt.legend(['train score', 'test score'], loc='upper right')\n",
    "plt.show()"
   ]
  },
  {
   "cell_type": "code",
   "execution_count": null,
   "id": "8457e639",
   "metadata": {},
   "outputs": [],
   "source": [
    "alpha_lasso =0.001\n",
    "\n",
    "lasso = Lasso(alpha=alpha_lasso)\n",
    "        \n",
    "lasso.fit(X_train, y_train) "
   ]
  },
  {
   "cell_type": "code",
   "execution_count": null,
   "id": "2f3e4762",
   "metadata": {},
   "outputs": [],
   "source": [
    "lasso.coef_\n"
   ]
  },
  {
   "cell_type": "code",
   "execution_count": null,
   "id": "d3cb9745",
   "metadata": {},
   "outputs": [],
   "source": [
    "model_parameters = list(lasso.coef_)\n",
    "# model coefficients\n",
    "cols = X.columns\n",
    "cols = cols.insert(0, \"constant\")\n",
    "model_parameters = list(lasso.coef_)\n",
    "lasso_list = list(zip(cols, model_parameters))"
   ]
  },
  {
   "cell_type": "code",
   "execution_count": null,
   "id": "c7682da4",
   "metadata": {},
   "outputs": [],
   "source": [
    "lasso_list\n"
   ]
  },
  {
   "cell_type": "code",
   "execution_count": null,
   "id": "f35f8cc8",
   "metadata": {},
   "outputs": [],
   "source": [
    "final_pred_lasso =[]\n",
    "for i in range(len(lasso_list)):\n",
    "    if(lasso_list[i][1]!=0):\n",
    "        final_pred_lasso.append(lasso_list[i][0])\n",
    "print('Number of predictors selected by optimaloptimal alpha for ridge are:{0}'.format(len(final_pred_lasso)))"
   ]
  },
  {
   "cell_type": "markdown",
   "id": "430e3659",
   "metadata": {},
   "source": [
    "# Remove highest contributors"
   ]
  },
  {
   "cell_type": "code",
   "execution_count": null,
   "id": "9addeefc",
   "metadata": {},
   "outputs": [],
   "source": [
    "lm_double = Lasso(alpha=0.002)\n",
    "lm_double.fit(X_train, y_train)\n",
    "\n",
    "# predict\n",
    "y_train_pred_double = lm_double.predict(X_train)\n",
    "print('The training accuracy is:')\n",
    "print(metrics.r2_score(y_true=y_train, y_pred=y_train_pred_double))\n",
    "y_test_pred_double = lm.predict(X_test)\n",
    "print('The test accuracy is:')\n",
    "print(metrics.r2_score(y_true=y_test, y_pred=y_test_pred_double))"
   ]
  },
  {
   "cell_type": "code",
   "execution_count": null,
   "id": "ce0116de",
   "metadata": {},
   "outputs": [],
   "source": [
    "model_parameters = list(lm_double.coef_)\n",
    "# model coefficients\n",
    "cols = X.columns\n",
    "cols = cols.insert(0, \"constant\")\n",
    "model_parameters = list(lm_double.coef_)\n",
    "a = list(zip(cols, model_parameters))\n",
    "#List of all predictors with non zero co-efficients\n",
    "\n",
    "final_pred =[]\n",
    "for i in range(len(a)):\n",
    "    if(a[i][1]!=0):\n",
    "        final_pred.append(a[i][0])\n",
    "print('Number of predictors selected by double the optimal alpha for lasso are:{0}'.format(len(final_pred)))"
   ]
  },
  {
   "cell_type": "code",
   "execution_count": null,
   "id": "e033ee71",
   "metadata": {},
   "outputs": [],
   "source": [
    "a"
   ]
  },
  {
   "cell_type": "code",
   "execution_count": null,
   "id": "75ffefe8",
   "metadata": {},
   "outputs": [],
   "source": [
    "d = len(final_pred)"
   ]
  },
  {
   "cell_type": "code",
   "execution_count": null,
   "id": "8da5a63d",
   "metadata": {},
   "outputs": [],
   "source": [
    "d"
   ]
  },
  {
   "cell_type": "code",
   "execution_count": null,
   "id": "acb45209",
   "metadata": {},
   "outputs": [],
   "source": [
    "n = len(X)\n"
   ]
  },
  {
   "cell_type": "code",
   "execution_count": null,
   "id": "d7baaabd",
   "metadata": {},
   "outputs": [],
   "source": [
    "X_train_new = X_train.drop([ 'BsmtUnfSF', '1stFlrSF', '2ndFlrSF', 'FireplaceQu_TA', 'GarageType_CarPort'], axis=1)\n"
   ]
  },
  {
   "cell_type": "code",
   "execution_count": null,
   "id": "d1829b0c",
   "metadata": {},
   "outputs": [],
   "source": [
    "X_test_new = X_test.drop([ 'BsmtUnfSF', '1stFlrSF', '2ndFlrSF', 'FireplaceQu_TA', 'GarageType_CarPort'], axis=1)\n"
   ]
  },
  {
   "cell_type": "code",
   "execution_count": null,
   "id": "874a2d2f",
   "metadata": {},
   "outputs": [],
   "source": [
    "X_train_new.columns\n"
   ]
  },
  {
   "cell_type": "code",
   "execution_count": null,
   "id": "5deb92b8",
   "metadata": {},
   "outputs": [],
   "source": [
    "model_lasso_cv.fit(X_train_new, y_train)\n"
   ]
  },
  {
   "cell_type": "code",
   "execution_count": null,
   "id": "44cdb705",
   "metadata": {},
   "outputs": [],
   "source": [
    "# plotting mean test and train scoes with alpha \n",
    "cv_results_lasso['param_alpha'] = cv_results_lasso['param_alpha'].astype('float32')\n",
    "\n",
    "# plotting\n",
    "plt.plot(cv_results_lasso['param_alpha'], cv_results_lasso['mean_train_score'])\n",
    "plt.plot(cv_results_lasso['param_alpha'], cv_results_lasso['mean_test_score'])\n",
    "plt.xlabel('alpha')\n",
    "plt.ylabel('Negative Mean Absolute Error')\n",
    "\n",
    "plt.title(\"Negative Mean Absolute Error and alpha\")\n",
    "plt.legend(['train score', 'test score'], loc='upper right')\n",
    "plt.show()"
   ]
  },
  {
   "cell_type": "code",
   "execution_count": null,
   "id": "53851df0",
   "metadata": {},
   "outputs": [],
   "source": [
    "print(\"\\n The best estimator across ALL searched params:\\n\",\n",
    "          model_lasso_cv.best_estimator_)\n",
    "print(\"\\n The best score across ALL searched params:\\n\",\n",
    "          model_lasso_cv.best_score_)\n",
    "print(\"\\n The best parameters across ALL searched params:\\n\",\n",
    "          model_lasso_cv.best_params_)"
   ]
  },
  {
   "cell_type": "code",
   "execution_count": null,
   "id": "6a22e3e2",
   "metadata": {},
   "outputs": [],
   "source": [
    "alpha_lasso =0.001\n",
    "\n",
    "lasso = Lasso(alpha=alpha_lasso)\n",
    "        \n",
    "lasso.fit(X_train_new, y_train) "
   ]
  },
  {
   "cell_type": "code",
   "execution_count": null,
   "id": "b3de4721",
   "metadata": {},
   "outputs": [],
   "source": [
    "lm = Lasso(alpha=0.001)\n",
    "lm.fit(X_train_new, y_train)\n",
    "\n",
    "# predict\n",
    "y_train_pred = lm.predict(X_train_new)\n",
    "print('The training accuracy is:')\n",
    "print(metrics.r2_score(y_true=y_train, y_pred=y_train_pred))\n",
    "y_test_pred = lm.predict(X_test_new)\n",
    "print('The test accuracy is:')\n",
    "print(metrics.r2_score(y_true=y_test, y_pred=y_test_pred))"
   ]
  },
  {
   "cell_type": "code",
   "execution_count": null,
   "id": "e2f72cd3",
   "metadata": {},
   "outputs": [],
   "source": [
    "final_lasso_new_pred =[]\n",
    "for i in range(len(lasso_list)):\n",
    "    if(lasso_list[i][1]!=0):\n",
    "        final_lasso_new_pred.append(lasso_list[i][0])\n",
    "print('Number of predictors selected by double the optimal alpha for lasso are:{0}'.format(len(final_lasso_new_pred)))"
   ]
  },
  {
   "cell_type": "code",
   "execution_count": null,
   "id": "705ced3b",
   "metadata": {},
   "outputs": [],
   "source": []
  }
 ],
 "metadata": {
  "kernelspec": {
   "display_name": "Python 3 (ipykernel)",
   "language": "python",
   "name": "python3"
  },
  "language_info": {
   "codemirror_mode": {
    "name": "ipython",
    "version": 3
   },
   "file_extension": ".py",
   "mimetype": "text/x-python",
   "name": "python",
   "nbconvert_exporter": "python",
   "pygments_lexer": "ipython3",
   "version": "3.9.7"
  }
 },
 "nbformat": 4,
 "nbformat_minor": 5
}
